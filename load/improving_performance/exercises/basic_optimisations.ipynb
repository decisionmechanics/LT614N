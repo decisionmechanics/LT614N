{
 "cells": [
  {
   "cell_type": "markdown",
   "id": "4aba2877-0969-4d9b-a9f0-49412a97d3ee",
   "metadata": {},
   "source": [
    "# Basic optimisations"
   ]
  },
  {
   "cell_type": "markdown",
   "id": "50d66fda-bf13-4428-a4bd-bbb8445d9f94",
   "metadata": {},
   "source": [
    "Premature optimisation is a bad, bad thing. Focus on writing maintainable code and optimise only where it adds value."
   ]
  },
  {
   "cell_type": "markdown",
   "id": "9d7ff4c3-3b0b-486c-b220-05ccad9027fe",
   "metadata": {
    "jp-MarkdownHeadingCollapsed": true,
    "tags": []
   },
   "source": [
    "## 1. Use built-ins"
   ]
  },
  {
   "cell_type": "markdown",
   "id": "8b44853e-2092-4479-a9f9-2aa1b57ba0a0",
   "metadata": {},
   "source": [
    "Built-in functions are usually heavily optimised."
   ]
  },
  {
   "cell_type": "code",
   "execution_count": null,
   "id": "5eea2d63-82d9-4ce0-865b-08575e4c6620",
   "metadata": {},
   "outputs": [],
   "source": [
    "%%timeit\n",
    "total = 0\n",
    "\n",
    "for i in range(1_000_000):\n",
    "    total += i"
   ]
  },
  {
   "cell_type": "code",
   "execution_count": null,
   "id": "e269714f-0e34-4ebb-8b6a-83fba8f0bf8e",
   "metadata": {},
   "outputs": [],
   "source": [
    "%%timeit\n",
    "sum(range(1_000_000))"
   ]
  },
  {
   "cell_type": "markdown",
   "id": "f24e0f2b-e3b5-47b4-a7bf-9689a6a83771",
   "metadata": {},
   "source": [
    "## 2. Don't assume that libraries are fast"
   ]
  },
  {
   "cell_type": "markdown",
   "id": "49397be7-81f1-472b-9076-4aa05650ad6d",
   "metadata": {},
   "source": [
    "Third-party libraries could be awful. Even the standard library may not be fully optimised."
   ]
  },
  {
   "cell_type": "code",
   "execution_count": null,
   "id": "5e7197c9-1c23-494d-84b1-a3c8f7d2b354",
   "metadata": {},
   "outputs": [],
   "source": [
    "from statistics import mean\n",
    "numbers = list(range(1_000_000))\n",
    "%timeit sum(numbers) / len(numbers)\n",
    "%timeit mean(numbers)"
   ]
  },
  {
   "cell_type": "markdown",
   "id": "80d1faa3-ad24-4bda-89b2-f7f766d863b2",
   "metadata": {},
   "source": [
    "## 3. Don't manually search lists"
   ]
  },
  {
   "cell_type": "code",
   "execution_count": null,
   "id": "7f28eee7-474d-4439-ba15-e1a696f063ca",
   "metadata": {},
   "outputs": [],
   "source": [
    "numbers = list(range(1_000_000))\n",
    "%timeit numbers.index(500_000) != 0\n",
    "%timeit 500_000 in numbers"
   ]
  },
  {
   "cell_type": "markdown",
   "id": "597a1a3a-3664-4787-bad1-14980295ba36",
   "metadata": {},
   "source": [
    "## 4. Make more use of sets"
   ]
  },
  {
   "cell_type": "markdown",
   "id": "0fe7ae54-6fb7-41ae-a39f-21d25ac46fd9",
   "metadata": {},
   "source": [
    "Set are a fundamental data type. It's a shame we don't use them more."
   ]
  },
  {
   "cell_type": "code",
   "execution_count": null,
   "id": "2cb5dc57-4151-4175-a5d7-a42973da7cf3",
   "metadata": {},
   "outputs": [],
   "source": [
    "primes = [2, 3, 5, 7, 11, 13, 17, 19, 23, 29]\n",
    "fibonacci = [0, 1, 1, 2, 3, 5, 8, 13, 21, 34]"
   ]
  },
  {
   "cell_type": "code",
   "execution_count": null,
   "id": "834b4520-5195-495d-8558-6216eacc926f",
   "metadata": {},
   "outputs": [],
   "source": [
    "%%timeit\n",
    "in_both = []\n",
    "\n",
    "for p in primes:\n",
    "    for f in fibonacci:\n",
    "        if p == f:\n",
    "            in_both.append(p)"
   ]
  },
  {
   "cell_type": "code",
   "execution_count": null,
   "id": "22aa9c2d-fe35-408c-8e6b-601f5410b8ec",
   "metadata": {},
   "outputs": [],
   "source": [
    "%%timeit\n",
    "in_both = set(primes) & set(fibonacci)"
   ]
  },
  {
   "cell_type": "markdown",
   "id": "25a96015-d419-44f0-bf39-1bb25e183db3",
   "metadata": {},
   "source": [
    "## 5. Use comprehensions"
   ]
  },
  {
   "cell_type": "markdown",
   "id": "697f7679-e0ea-483e-8346-42fe3da62dfa",
   "metadata": {},
   "source": [
    "Comprehensions are slightly faster...and more concise. What's not to like?"
   ]
  },
  {
   "cell_type": "code",
   "execution_count": null,
   "id": "503a1985-42ae-4acd-8176-4fa6c9b965d0",
   "metadata": {},
   "outputs": [],
   "source": [
    "%%timeit\n",
    "odd_cubes = []\n",
    "for n in range(1_000_000):\n",
    "    if n % 2 == 1:\n",
    "          odd_cubes.append(n ** 3)"
   ]
  },
  {
   "cell_type": "code",
   "execution_count": null,
   "id": "8d31cf8d-a53e-4e97-a691-5ac2fb7c8832",
   "metadata": {},
   "outputs": [],
   "source": [
    "%%timeit\n",
    "odd_cubes = [n ** 3 for n in range(1_000_000) if n % 2 == 1]"
   ]
  },
  {
   "cell_type": "markdown",
   "id": "f2d3cc76-c488-4465-9d62-e8667f8e0940",
   "metadata": {},
   "source": [
    "## 6. Use generators"
   ]
  },
  {
   "cell_type": "markdown",
   "id": "70e9c8a9-cb02-4ecc-a93b-90bc051769bb",
   "metadata": {},
   "source": [
    "Generators make sure we don't waste effort on things we don't need"
   ]
  },
  {
   "cell_type": "code",
   "execution_count": null,
   "id": "daecdbb4-eb83-4839-bb29-2aabc244f78a",
   "metadata": {},
   "outputs": [],
   "source": [
    "%%timeit\n",
    "numbers = [n ** 3 for n in range(1_000_000) if n % 2 == 1]\n",
    "sum(numbers[:10])"
   ]
  },
  {
   "cell_type": "code",
   "execution_count": null,
   "id": "8a8181fc-54e9-4a84-9fe6-d74943951a50",
   "metadata": {},
   "outputs": [],
   "source": [
    "import itertools"
   ]
  },
  {
   "cell_type": "code",
   "execution_count": null,
   "id": "4db39bd3-f4e1-426d-bf64-b7fbddc4aaf0",
   "metadata": {},
   "outputs": [],
   "source": [
    "%%timeit\n",
    "numbers = (n ** 3 for n in range(1_000_000) if n % 2 == 1)\n",
    "sum(itertools.islice(numbers, 10))"
   ]
  },
  {
   "cell_type": "markdown",
   "id": "bfc97b1f-8236-4162-92cc-84b8773e4401",
   "metadata": {
    "tags": []
   },
   "source": [
    "## 7. Concatenate strings using `join`"
   ]
  },
  {
   "cell_type": "markdown",
   "id": "d17f283d-52f9-47e8-a9ae-76bfcaf57e5a",
   "metadata": {},
   "source": [
    "The string join method is highly optimised---and makes better use of memory."
   ]
  },
  {
   "cell_type": "code",
   "execution_count": null,
   "id": "d9fa7812-6885-462a-89af-22a95139b197",
   "metadata": {},
   "outputs": [],
   "source": [
    "words = [\"the\", \"quick\", \"brown\", \"fox\", \"jumps\", \"over\", \"the\", \"lazy\", \"dog\"]"
   ]
  },
  {
   "cell_type": "code",
   "execution_count": null,
   "id": "eaf0f197-1572-424c-90a3-7a88489bd8aa",
   "metadata": {},
   "outputs": [],
   "source": [
    "%%timeit\n",
    "sentence = \"\"\n",
    "\n",
    "for word in words:\n",
    "    if sentence:\n",
    "        sentence += \" \"\n",
    "        \n",
    "    sentence += word"
   ]
  },
  {
   "cell_type": "code",
   "execution_count": null,
   "id": "580c8b9c-d333-4608-8bc1-952c7f28cf4a",
   "metadata": {},
   "outputs": [],
   "source": [
    "%%timeit\n",
    "sentence = \" \".join(words)"
   ]
  },
  {
   "cell_type": "markdown",
   "id": "b74ef336-2347-40e9-b475-368dde05c1cd",
   "metadata": {
    "tags": []
   },
   "source": [
    "## 8. Only load modules when you need 'em"
   ]
  },
  {
   "cell_type": "markdown",
   "id": "235ddba5-ac42-4254-a8bd-3772a47429a6",
   "metadata": {},
   "source": [
    "We don't have to import all our modules at the start."
   ]
  },
  {
   "cell_type": "code",
   "execution_count": null,
   "id": "b53a08fe-e99f-4d43-bd48-d8e4981ec5d1",
   "metadata": {},
   "outputs": [],
   "source": [
    "if True:\n",
    "    import math\n",
    "    \n",
    "    print(math.sqrt(9))"
   ]
  },
  {
   "cell_type": "markdown",
   "id": "0868c66e-a0db-4932-99c1-331220fc3415",
   "metadata": {
    "tags": []
   },
   "source": [
    "## 9. Use caching"
   ]
  },
  {
   "cell_type": "markdown",
   "id": "b285bbf6-f5fa-4e69-8863-23cb68c10f50",
   "metadata": {},
   "source": [
    "Memoization saves us from doing work we've already done."
   ]
  },
  {
   "cell_type": "code",
   "execution_count": null,
   "id": "8fd38833-6d7d-4540-8e6a-f7bba57fb5ad",
   "metadata": {},
   "outputs": [],
   "source": [
    "import math\n",
    "\n",
    "def find_nth_prime(n):\n",
    "    def is_prime(n):\n",
    "        for i in range(2, int(math.sqrt(n) + 1)):\n",
    "            if n % i == 0:\n",
    "                return False\n",
    "\n",
    "        return True\n",
    "\n",
    "    count = n\n",
    "    candidate = 1\n",
    "\n",
    "    while count > 0:\n",
    "        candidate += 1\n",
    "\n",
    "        if is_prime(candidate):\n",
    "            count -= 1\n",
    "            \n",
    "    return candidate"
   ]
  },
  {
   "cell_type": "code",
   "execution_count": null,
   "id": "f3b44c1e-2aaa-4ace-8299-68607d314c8c",
   "metadata": {},
   "outputs": [],
   "source": [
    "%timeit find_nth_prime(1_000)\n",
    "%timeit find_nth_prime(1_000)"
   ]
  },
  {
   "cell_type": "code",
   "execution_count": null,
   "id": "b7fcf085-0303-4ba4-8a48-87b428648f29",
   "metadata": {},
   "outputs": [],
   "source": [
    "import functools\n",
    "\n",
    "@functools.lru_cache(maxsize=16)\n",
    "def find_cached_nth_prime(n):\n",
    "    return find_nth_prime(n)"
   ]
  },
  {
   "cell_type": "code",
   "execution_count": null,
   "id": "16f5efce-26da-4a26-bf7b-2005c83c48c6",
   "metadata": {},
   "outputs": [],
   "source": [
    "%timeit -n 1 find_cached_nth_prime(1_000)\n",
    "%timeit -n 1 find_cached_nth_prime(1_000)"
   ]
  },
  {
   "cell_type": "markdown",
   "id": "6ced2882-acd9-4ebe-b0a9-dcb08a7eed8c",
   "metadata": {},
   "source": [
    "## 10. Get to know `itertools`"
   ]
  },
  {
   "cell_type": "markdown",
   "id": "950381ad-5fce-40a9-b8ff-06e1e7cd2c8b",
   "metadata": {},
   "source": [
    "`itertools` is a library of functions for efficient looping. We used `islice` earlier. If you like `itertools` you can have even more---with `more-itertools`!."
   ]
  },
  {
   "cell_type": "code",
   "execution_count": null,
   "id": "e0201411-f8c4-4346-878f-3c76d212b31e",
   "metadata": {},
   "outputs": [],
   "source": [
    "numbers = list(range(100))"
   ]
  },
  {
   "cell_type": "code",
   "execution_count": null,
   "id": "db38cb2b-e770-46cf-bccd-556e24e1dc1b",
   "metadata": {},
   "outputs": [],
   "source": [
    "%%timeit\n",
    "cum_sum = []\n",
    "running_total = 0\n",
    "\n",
    "for n in numbers:\n",
    "    cum_sum.append(running_total + n)\n",
    "    running_total += n"
   ]
  },
  {
   "cell_type": "code",
   "execution_count": null,
   "id": "6784ce73-885b-4ca5-9658-bb883f7baa54",
   "metadata": {},
   "outputs": [],
   "source": [
    "import itertools\n",
    "%timeit cum_sum = list(itertools.accumulate(numbers))"
   ]
  }
 ],
 "metadata": {
  "kernelspec": {
   "display_name": "Python 3 (ipykernel)",
   "language": "python",
   "name": "python3"
  },
  "language_info": {
   "codemirror_mode": {
    "name": "ipython",
    "version": 3
   },
   "file_extension": ".py",
   "mimetype": "text/x-python",
   "name": "python",
   "nbconvert_exporter": "python",
   "pygments_lexer": "ipython3",
   "version": "3.9.6"
  }
 },
 "nbformat": 4,
 "nbformat_minor": 5
}
