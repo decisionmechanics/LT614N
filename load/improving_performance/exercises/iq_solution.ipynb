{
 "cells": [
  {
   "cell_type": "markdown",
   "id": "131d214c-8cf7-470b-9ae1-a3a72bb30ea6",
   "metadata": {},
   "source": [
    "# Perform basic statistical inference using NumPy"
   ]
  },
  {
   "cell_type": "markdown",
   "id": "063a2e70-057b-4c00-87c0-889a8eaa0f17",
   "metadata": {},
   "source": [
    "Mensa membership requires you to be in the 98th percentile on the Stanford-Binet IQ test. Scores on this test follow a normal distribution with a mean of 100 and a standard deviation of 16.\n",
    "\n",
    "$IQ \\sim N(100, 16)$"
   ]
  },
  {
   "cell_type": "markdown",
   "id": "a2d784d1-3e49-4ded-b4d6-6fde63812463",
   "metadata": {},
   "source": [
    "Import NumPy"
   ]
  },
  {
   "cell_type": "code",
   "execution_count": null,
   "id": "c0a633d2-ac1d-423b-ae69-2d7519cd7791",
   "metadata": {},
   "outputs": [],
   "source": [
    "import numpy as np"
   ]
  },
  {
   "cell_type": "markdown",
   "id": "c90f7dbc-1c9b-4acf-94a2-a17c5b3c7937",
   "metadata": {},
   "source": [
    "Optionally set a seed so the results are repeatable."
   ]
  },
  {
   "cell_type": "code",
   "execution_count": null,
   "id": "7e81be29-7ae3-45c4-bf45-17adfb5b3330",
   "metadata": {},
   "outputs": [],
   "source": [
    "np.random.seed(614)"
   ]
  },
  {
   "cell_type": "markdown",
   "id": "4435c499-9430-42c9-b245-968b11060640",
   "metadata": {},
   "source": [
    "Generate 1m sample IQ scores."
   ]
  },
  {
   "cell_type": "code",
   "execution_count": null,
   "id": "775668bf-155b-4c27-9a7a-5c52b6c1e01c",
   "metadata": {},
   "outputs": [],
   "source": [
    "iqs = np.random.normal(loc=100, scale=16, size=1_000_000)"
   ]
  },
  {
   "cell_type": "markdown",
   "id": "27a0e7af-68ab-48a6-b879-423a5c9b6415",
   "metadata": {},
   "source": [
    "Sort the IQ scores."
   ]
  },
  {
   "cell_type": "code",
   "execution_count": null,
   "id": "490f29f2-b79f-46ab-8e58-6f2fc4c71e64",
   "metadata": {},
   "outputs": [],
   "source": [
    "iqs = np.sort(iqs)"
   ]
  },
  {
   "cell_type": "markdown",
   "id": "c85ae7a5-6b63-48e0-97fe-10df0aa9bf62",
   "metadata": {},
   "source": [
    "Get the index of the 98th (or above) percentile"
   ]
  },
  {
   "cell_type": "code",
   "execution_count": null,
   "id": "d7fb6de4-e548-45b0-aaf3-3dd0d0ce1317",
   "metadata": {},
   "outputs": [],
   "source": [
    "index = round(len(iqs) * 0.98 + 0.5)"
   ]
  },
  {
   "cell_type": "markdown",
   "id": "98ab9615-4747-48e8-b8d4-cdf450be1fdc",
   "metadata": {},
   "source": [
    "Get the value at the 98th percentile index."
   ]
  },
  {
   "cell_type": "code",
   "execution_count": null,
   "id": "1ddc7ec4-b12a-4bc9-a2de-f2046403bed0",
   "metadata": {},
   "outputs": [],
   "source": [
    "print(f\"Mensa membership requires an IQ of {iqs[index]:.1f} or higher\")"
   ]
  },
  {
   "cell_type": "markdown",
   "id": "263d5fff-fa66-48ac-9d8b-dbce28501100",
   "metadata": {},
   "source": [
    "## Alternative approaches"
   ]
  },
  {
   "cell_type": "markdown",
   "id": "2691d890-aea1-4b3a-a94b-e69c690b3bf2",
   "metadata": {},
   "source": [
    "NumPy provides a `percentile` function, so there's no need to calculate the index. "
   ]
  },
  {
   "cell_type": "code",
   "execution_count": null,
   "id": "16cfc379-b0e6-46c3-9a22-13ffd960123b",
   "metadata": {},
   "outputs": [],
   "source": [
    "iq = np.percentile(iqs, 98)\n",
    "print(f\"Mensa membership requires an IQ of {iq:.1f} or higher\")"
   ]
  },
  {
   "cell_type": "markdown",
   "id": "6bde8906-7ead-4f66-bb41-9b2818ab42b8",
   "metadata": {},
   "source": [
    "Monte Carlo simulation is very flexible. However, this problem has an analytical solution."
   ]
  },
  {
   "cell_type": "code",
   "execution_count": null,
   "id": "08c05b23-c09a-4c68-8630-a200d3f247cb",
   "metadata": {},
   "outputs": [],
   "source": [
    "import scipy.stats\n",
    "iq = scipy.stats.norm.ppf(0.98, loc=100, scale=16)\n",
    "print(f\"Mensa membership requires an IQ of {iq:.1f} or higher\")"
   ]
  }
 ],
 "metadata": {
  "kernelspec": {
   "display_name": "Python 3 (ipykernel)",
   "language": "python",
   "name": "python3"
  },
  "language_info": {
   "codemirror_mode": {
    "name": "ipython",
    "version": 3
   },
   "file_extension": ".py",
   "mimetype": "text/x-python",
   "name": "python",
   "nbconvert_exporter": "python",
   "pygments_lexer": "ipython3",
   "version": "3.9.6"
  }
 },
 "nbformat": 4,
 "nbformat_minor": 5
}
