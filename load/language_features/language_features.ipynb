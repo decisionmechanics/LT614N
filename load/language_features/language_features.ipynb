{
 "cells": [
  {
   "cell_type": "markdown",
   "id": "b2ccf937-bd2b-4cf6-a6e7-a2d6f63e09a6",
   "metadata": {},
   "source": [
    "# Language Features"
   ]
  },
  {
   "cell_type": "markdown",
   "id": "6a51bc38-b761-4d02-8da4-5bf4fba7a5e0",
   "metadata": {},
   "source": [
    "## Attributes"
   ]
  },
  {
   "cell_type": "code",
   "execution_count": null,
   "id": "e07bcaf5-6bd1-4c1a-8fdd-86db19017eea",
   "metadata": {},
   "outputs": [],
   "source": [
    "def streaming_average(n):\n",
    "    streaming_average.count += 1\n",
    "    streaming_average.total += n\n",
    "    \n",
    "    return streaming_average.total / streaming_average.count\n",
    "\n",
    "streaming_average.count = 0\n",
    "streaming_average.total = 0"
   ]
  },
  {
   "cell_type": "code",
   "execution_count": null,
   "id": "db30972d-8cbf-4c0e-9f6e-0fe8dc95bd54",
   "metadata": {},
   "outputs": [],
   "source": [
    "print(streaming_average(2))\n",
    "print(streaming_average(3))\n",
    "print(streaming_average(4))"
   ]
  },
  {
   "cell_type": "markdown",
   "id": "1b27fca7-43a4-4769-b00d-bb5c0a29a98a",
   "metadata": {},
   "source": [
    "## Closures in Python"
   ]
  },
  {
   "cell_type": "code",
   "execution_count": null,
   "id": "61bdf68d-4701-4e69-9583-d66aaeb04edb",
   "metadata": {},
   "outputs": [],
   "source": [
    "def make_streaming_average():\n",
    "    count = 0\n",
    "    total = 0\n",
    "\n",
    "    def inner(n):\n",
    "        nonlocal count, total\n",
    "\n",
    "        count += 1\n",
    "        total += n\n",
    "\n",
    "        return total / count\n",
    "\n",
    "    return inner"
   ]
  },
  {
   "cell_type": "code",
   "execution_count": null,
   "id": "7b4e6a0f-ddb2-4c4d-bc4f-098d12c3a4b4",
   "metadata": {},
   "outputs": [],
   "source": [
    "streaming_average = make_streaming_average()\n",
    "print(streaming_average(2))\n",
    "print(streaming_average(3))\n",
    "print(streaming_average(4))"
   ]
  },
  {
   "cell_type": "markdown",
   "id": "7089564d-5b90-425c-bd82-642268023be8",
   "metadata": {},
   "source": [
    "## Sales tax calculator"
   ]
  },
  {
   "cell_type": "code",
   "execution_count": null,
   "id": "3478e89b-4930-4e4d-a173-343a67facf6f",
   "metadata": {},
   "outputs": [],
   "source": [
    "def make_sales_tax_calculator(rate):\n",
    "    def calculator(amount):\n",
    "        return amount * rate\n",
    "    \n",
    "    return calculator"
   ]
  },
  {
   "cell_type": "code",
   "execution_count": null,
   "id": "ee90a93c-09c3-429f-9ac9-5fe28478bd92",
   "metadata": {},
   "outputs": [],
   "source": [
    "vat_calculator = make_sales_tax_calculator(0.2)\n",
    "print(vat_calculator(100))\n",
    "\n",
    "new_york_sales_tax_calculator = make_sales_tax_calculator(0.04)\n",
    "print(new_york_sales_tax_calculator(100))"
   ]
  },
  {
   "cell_type": "markdown",
   "id": "bffb4ec6-06e4-4471-9760-3b6c054d2826",
   "metadata": {},
   "source": [
    "## Closing on references"
   ]
  },
  {
   "cell_type": "code",
   "execution_count": null,
   "id": "012903b9-9c04-49ff-be39-af1cbd33c1e1",
   "metadata": {},
   "outputs": [],
   "source": [
    "def make_sales_tax_calculator(rates):\n",
    "    def calculator(amount):\n",
    "        return amount * rates[\"uk\"]\n",
    "    \n",
    "    return calculator"
   ]
  },
  {
   "cell_type": "code",
   "execution_count": null,
   "id": "45f03dad-cca4-4f51-b456-db42681ce4ec",
   "metadata": {},
   "outputs": [],
   "source": [
    "rates = {\"uk\" : 0.2}\n",
    "vat_calculator = make_sales_tax_calculator(rates)\n",
    "print(vat_calculator(100))\n",
    "rates[\"uk\"] = 0.05\n",
    "print(vat_calculator(100))"
   ]
  },
  {
   "cell_type": "code",
   "execution_count": null,
   "id": "92a2a201-337b-4bd4-9414-d297dfdda58f",
   "metadata": {},
   "outputs": [],
   "source": [
    "rates = {\"uk\" : 0.2}\n",
    "vat_calculator = make_sales_tax_calculator(dict(rates))\n",
    "print(vat_calculator(100))\n",
    "rates[\"uk\"] = 0.05\n",
    "print(vat_calculator(100))"
   ]
  },
  {
   "cell_type": "markdown",
   "id": "f5fc3589-59ee-470e-ba77-9a001314c059",
   "metadata": {},
   "source": [
    "## Modifying closure state"
   ]
  },
  {
   "cell_type": "code",
   "execution_count": null,
   "id": "351b4e15-20df-4756-b474-8a3de2f48c58",
   "metadata": {},
   "outputs": [],
   "source": [
    "def make_sales_tax_calculator(rate):\n",
    "    def calculator(amount):\n",
    "        return amount * rate\n",
    "    \n",
    "    def change_rate(value):\n",
    "        nonlocal rate\n",
    "        rate = value\n",
    "    \n",
    "    calculator.change_rate = change_rate\n",
    "    \n",
    "    return calculator"
   ]
  },
  {
   "cell_type": "code",
   "execution_count": null,
   "id": "ffd3338f-5cb4-4813-86e0-08189d39cb96",
   "metadata": {},
   "outputs": [],
   "source": [
    "vat_calculator = make_sales_tax_calculator(0.2)\n",
    "print(vat_calculator(100))\n",
    "vat_calculator.change_rate(0.05)\n",
    "print(vat_calculator(100))"
   ]
  },
  {
   "cell_type": "markdown",
   "id": "c7029892-500a-4ae2-b0ae-c2659ddec84d",
   "metadata": {
    "tags": []
   },
   "source": [
    "## Context manager examples"
   ]
  },
  {
   "cell_type": "code",
   "execution_count": null,
   "id": "74b9bf51-b784-4f3f-b706-1d2dc0b31775",
   "metadata": {},
   "outputs": [],
   "source": [
    "import pathlib\n",
    "\n",
    "book_file_path = pathlib.Path(\"../data/dracula.txt\")\n",
    "\n",
    "with book_file_path.open() as f:\n",
    "    book = [line.strip() for line in f.readlines()]\n",
    "    \n",
    "book[1876:1886]"
   ]
  },
  {
   "cell_type": "code",
   "execution_count": null,
   "id": "01f594a8-bf32-4605-afef-a6defb834135",
   "metadata": {},
   "outputs": [],
   "source": [
    "import json\n",
    "import pathlib\n",
    "from pprint import pprint as pp\n",
    "\n",
    "document_path = pathlib.Path(\"../data/countries.json\")\n",
    "\n",
    "with document_path.open() as f:\n",
    "    countries = json.load(f)\n",
    "    \n",
    "pp(countries[234])"
   ]
  },
  {
   "cell_type": "code",
   "execution_count": null,
   "id": "deb92d31-af4e-40f6-a152-15dc47cfb842",
   "metadata": {},
   "outputs": [],
   "source": [
    "import pandas as pd\n",
    "import pathlib\n",
    "\n",
    "document_path = pathlib.Path(\"../data/countries.json\")\n",
    "\n",
    "countries_df = pd.read_json(document_path)\n",
    "countries_df.set_index(\"alpha-3\", inplace=True)\n",
    "\n",
    "with pd.option_context(\"display.max_rows\", 6), pd.option_context(\"display.max_columns\", 4):\n",
    "    print(countries_df)"
   ]
  },
  {
   "cell_type": "markdown",
   "id": "1f801f43-e797-4e28-8787-932dbcb89c6b",
   "metadata": {},
   "source": [
    "## Custom context managers"
   ]
  },
  {
   "cell_type": "code",
   "execution_count": null,
   "id": "fc1ab1da-d59a-441d-862c-76d9ff46978d",
   "metadata": {},
   "outputs": [],
   "source": [
    "from contextlib import contextmanager\n",
    "from time import perf_counter\n",
    "\n",
    "@contextmanager\n",
    "def timer_context_manager():\n",
    "    start = perf_counter()\n",
    "    end = 0.0\n",
    "    \n",
    "    yield lambda: end - start\n",
    "    \n",
    "    end = perf_counter()"
   ]
  },
  {
   "cell_type": "code",
   "execution_count": null,
   "id": "216289b1-46dc-407c-bbf1-4da3019c680c",
   "metadata": {},
   "outputs": [],
   "source": [
    "from time import sleep\n",
    "\n",
    "with timer_context_manager() as timer:\n",
    "    sleep(0.5)\n",
    "    \n",
    "print(timer())"
   ]
  },
  {
   "cell_type": "markdown",
   "id": "7b4ba5ff-83df-4475-9c99-6944bcdcc0cc",
   "metadata": {
    "tags": []
   },
   "source": [
    "## Class-based custom context managers"
   ]
  },
  {
   "cell_type": "code",
   "execution_count": null,
   "id": "fd4e29c8-6def-428e-84eb-1c4d408cb0bc",
   "metadata": {},
   "outputs": [],
   "source": [
    "from time import perf_counter\n",
    "\n",
    "class Timer:\n",
    "    def __enter__(self):\n",
    "        self.start = perf_counter()\n",
    "        self.end = 0.0\n",
    "        \n",
    "        return lambda: self.end - self.start\n",
    "\n",
    "    def __exit__(self, *args):\n",
    "        self.end = perf_counter()"
   ]
  },
  {
   "cell_type": "code",
   "execution_count": null,
   "id": "e67d9556-74cb-40d3-a4f8-34654ca9b048",
   "metadata": {},
   "outputs": [],
   "source": [
    "from time import sleep\n",
    "\n",
    "with Timer() as timer:\n",
    "    sleep(1.5)\n",
    "    \n",
    "print(timer())"
   ]
  },
  {
   "cell_type": "markdown",
   "id": "eb148a0e-c55c-4d29-baea-fec526cd8f1b",
   "metadata": {},
   "source": [
    "## Handling exceptions in context managers"
   ]
  },
  {
   "cell_type": "code",
   "execution_count": null,
   "id": "e00296b3-1dce-45be-be4e-3cf6b9de82c1",
   "metadata": {},
   "outputs": [],
   "source": [
    "import json\n",
    "\n",
    "@contextmanager\n",
    "def json_context_manager(document_path):\n",
    "    try:\n",
    "        f = open(document_path)\n",
    "        document = json.load(f)\n",
    "    except FileNotFoundError:\n",
    "        f = None\n",
    "        document = None\n",
    "        \n",
    "    yield document\n",
    "        \n",
    "    if f:\n",
    "        f.close()"
   ]
  },
  {
   "cell_type": "markdown",
   "id": "43024413-b857-48cc-919b-ce6ed980759d",
   "metadata": {},
   "source": [
    "## Using JSON context manager"
   ]
  },
  {
   "cell_type": "code",
   "execution_count": null,
   "id": "10b80240-9a9e-46b0-8d9b-99063b6ca74c",
   "metadata": {},
   "outputs": [],
   "source": [
    "from pprint import pprint as pp\n",
    "\n",
    "with json_context_manager(\"../data/missing.json\") as document:\n",
    "    if document:\n",
    "        pp(document[234])\n",
    "    else:\n",
    "        print(\"Document doesn't exist\")"
   ]
  },
  {
   "cell_type": "markdown",
   "id": "bf0bf7cd-be1b-47be-aa0c-be463811c47f",
   "metadata": {},
   "source": [
    "## Handling exceptions in class-based context managers"
   ]
  },
  {
   "cell_type": "code",
   "execution_count": null,
   "id": "56b7e8c3-2916-45bf-ad4a-26e884cb39c0",
   "metadata": {},
   "outputs": [],
   "source": [
    "import json\n",
    "\n",
    "class JsonContextManager:\n",
    "    def __init__(self, document_path):\n",
    "        self.document_path = document_path\n",
    "        \n",
    "    def __enter__(self):\n",
    "        try:\n",
    "            self.f = open(self.document_path)\n",
    "            document = json.load(self.f)\n",
    "        except FileNotFoundError:\n",
    "            self.f = None\n",
    "            document = None\n",
    "        \n",
    "        return document\n",
    "\n",
    "    def __exit__(self, *args):\n",
    "        if self.f:\n",
    "            self.f.close()"
   ]
  },
  {
   "cell_type": "code",
   "execution_count": null,
   "id": "f0c5acc3-459f-4a0a-ae2c-7eb2ff39d39a",
   "metadata": {},
   "outputs": [],
   "source": [
    "from pprint import pprint as pp\n",
    "\n",
    "with JsonContextManager(\"../data/missing.json\") as document:\n",
    "    if document:\n",
    "        pp(document[234])\n",
    "    else:\n",
    "        print(\"Document doesn't exist\")"
   ]
  },
  {
   "cell_type": "markdown",
   "id": "63d76613-f5b5-4201-9554-558fa5448323",
   "metadata": {},
   "source": [
    "## Decorators"
   ]
  },
  {
   "cell_type": "code",
   "execution_count": null,
   "id": "b1673afb-1c5c-4a2f-8114-fb2d60d64fd5",
   "metadata": {},
   "outputs": [],
   "source": [
    "def halloween_decorator(func):\n",
    "    def wrapper():\n",
    "        print(\"Boo!\")\n",
    "        \n",
    "        func()\n",
    "    \n",
    "    return wrapper"
   ]
  },
  {
   "cell_type": "code",
   "execution_count": null,
   "id": "d8c63a36-6085-4197-8a80-7fbd07403b26",
   "metadata": {},
   "outputs": [],
   "source": [
    "@halloween_decorator\n",
    "def say_hi():\n",
    "    print(\"Hi.\")"
   ]
  },
  {
   "cell_type": "code",
   "execution_count": null,
   "id": "2eb59927-b917-481c-8cdc-aa0d012adc12",
   "metadata": {},
   "outputs": [],
   "source": [
    "say_hi()"
   ]
  },
  {
   "cell_type": "markdown",
   "id": "94e59d6b-6eb1-40f3-ab8e-026fc81f1e10",
   "metadata": {},
   "source": [
    "## Decorating functions with arguments"
   ]
  },
  {
   "cell_type": "code",
   "execution_count": null,
   "id": "8a97797e-98d3-40f4-aae9-6b14f1c075fd",
   "metadata": {},
   "outputs": [],
   "source": [
    "def halloween_decorator(func):\n",
    "    def wrapper(*args, **kwargs):\n",
    "        print(\"Boo!\")\n",
    "        \n",
    "        func(*args, **kwargs)\n",
    "    \n",
    "    return wrapper"
   ]
  },
  {
   "cell_type": "code",
   "execution_count": null,
   "id": "9cd70fe6-09a3-4d70-82de-a738d5eca584",
   "metadata": {},
   "outputs": [],
   "source": [
    "@halloween_decorator\n",
    "def say_hi(name):\n",
    "    print(f\"Hi, {name}.\")"
   ]
  },
  {
   "cell_type": "code",
   "execution_count": null,
   "id": "b367076a-98b5-472e-b83a-bd0abd4236c9",
   "metadata": {},
   "outputs": [],
   "source": [
    "say_hi(\"Andrew\")"
   ]
  },
  {
   "cell_type": "markdown",
   "id": "956b3147-3991-4d84-a292-5045827990b0",
   "metadata": {
    "tags": []
   },
   "source": [
    "## Returning values from decorated functions"
   ]
  },
  {
   "cell_type": "markdown",
   "id": "6eb578b7-cedd-426a-8a2f-fab0beae1fd3",
   "metadata": {},
   "source": [
    "If we don't return the value of the decorated function from the decorator, the decorator will swallow it."
   ]
  },
  {
   "cell_type": "code",
   "execution_count": null,
   "id": "f5d08105-3b06-435f-88d7-fce243ed9965",
   "metadata": {
    "tags": []
   },
   "outputs": [],
   "source": [
    "def halloween_decorator(func):\n",
    "    def wrapper(*args, **kwargs):\n",
    "        print(\"Boo!\")\n",
    "        \n",
    "        return func(*args, **kwargs)\n",
    "    \n",
    "    return wrapper"
   ]
  },
  {
   "cell_type": "code",
   "execution_count": null,
   "id": "53c5a960-6631-42dc-b2bd-4b59c4d6cdcb",
   "metadata": {},
   "outputs": [],
   "source": [
    "@halloween_decorator\n",
    "def say_hi(name):\n",
    "    return f\"Hi, {name}.\""
   ]
  },
  {
   "cell_type": "code",
   "execution_count": null,
   "id": "d704032c-de8e-4ec6-9fd7-5f91c1359c19",
   "metadata": {},
   "outputs": [],
   "source": [
    "greeting = say_hi(\"Andrew\")\n",
    "print(\"Greeting:\", greeting)"
   ]
  },
  {
   "cell_type": "markdown",
   "id": "4cdcaa30-eb5a-4598-a0de-ea8c56a70239",
   "metadata": {},
   "source": [
    "## Decorators with arguments"
   ]
  },
  {
   "cell_type": "code",
   "execution_count": null,
   "id": "bb5302d3-49c5-49cd-a5f3-323e407fc371",
   "metadata": {},
   "outputs": [],
   "source": [
    "def halloween_decorator(exclamation):\n",
    "    def decorator(func):\n",
    "        def wrapper(*args, **kwargs):\n",
    "            print(exclamation)\n",
    "\n",
    "            func(*args, **kwargs)\n",
    "\n",
    "        return wrapper\n",
    "    \n",
    "    return decorator"
   ]
  },
  {
   "cell_type": "code",
   "execution_count": null,
   "id": "377d8657-d5b4-4547-9d83-e569c5503600",
   "metadata": {},
   "outputs": [],
   "source": [
    "@halloween_decorator(\"Woo...\")\n",
    "def say_hi():\n",
    "    print(\"Hi.\")"
   ]
  },
  {
   "cell_type": "code",
   "execution_count": null,
   "id": "42f5c16c-b977-4938-b54c-470c43e57fee",
   "metadata": {},
   "outputs": [],
   "source": [
    "say_hi()"
   ]
  },
  {
   "cell_type": "markdown",
   "id": "3dea134a-f242-4fc5-94a3-503bf08d195f",
   "metadata": {
    "jp-MarkdownHeadingCollapsed": true,
    "tags": []
   },
   "source": [
    "## Preserving decorated function identities"
   ]
  },
  {
   "cell_type": "code",
   "execution_count": null,
   "id": "5d1b4e30-2ca9-42a8-8560-2125a4813a34",
   "metadata": {},
   "outputs": [],
   "source": [
    "print(say_hi.__name__)"
   ]
  },
  {
   "cell_type": "code",
   "execution_count": null,
   "id": "e6483f2b-415a-4c2c-b837-b08140eef7eb",
   "metadata": {},
   "outputs": [],
   "source": [
    "import functools\n",
    "\n",
    "def halloween_decorator(func):\n",
    "    @functools.wraps(func)\n",
    "    def wrapper(*args, **kwargs):\n",
    "        print(\"Boo!\")\n",
    "        \n",
    "        func(*args, **kwargs)\n",
    "    \n",
    "    return wrapper"
   ]
  },
  {
   "cell_type": "code",
   "execution_count": null,
   "id": "b2e21418-5b56-48eb-aab8-665b394b0486",
   "metadata": {},
   "outputs": [],
   "source": [
    "@halloween_decorator\n",
    "def say_hi():\n",
    "    return \"Hi.\""
   ]
  },
  {
   "cell_type": "code",
   "execution_count": null,
   "id": "b8d2c96d-2e2c-4a0e-b48e-54c05f7f2b3f",
   "metadata": {},
   "outputs": [],
   "source": [
    "print(say_hi.__name__)"
   ]
  },
  {
   "cell_type": "markdown",
   "id": "1ac41ac5-d95e-49d4-bea4-0561720c8a19",
   "metadata": {},
   "source": [
    "## Stateful decorators"
   ]
  },
  {
   "cell_type": "code",
   "execution_count": null,
   "id": "603f436b-bb38-4ec7-b1b2-20464b2a0606",
   "metadata": {},
   "outputs": [],
   "source": [
    "def track_invocations_decorator(func):\n",
    "    invocations = {}\n",
    "    \n",
    "    @functools.wraps(func)\n",
    "    def wrapper(*args, **kwargs):\n",
    "        count = invocations.get(func.__name__, 0) + 1\n",
    "        invocations[func.__name__] = count\n",
    "        \n",
    "        print(f\"{func.__name__} has been called {count} time(s)\")\n",
    "        \n",
    "        func(*args, **kwargs)\n",
    "        \n",
    "    return wrapper"
   ]
  },
  {
   "cell_type": "markdown",
   "id": "11657106-0daa-449f-ac88-90e73dd67f32",
   "metadata": {
    "tags": []
   },
   "source": [
    "## Using a stateful decorator"
   ]
  },
  {
   "cell_type": "code",
   "execution_count": null,
   "id": "52e77cb7-b0d2-4a92-a51c-0f64a444f1ea",
   "metadata": {},
   "outputs": [],
   "source": [
    "@track_invocations_decorator\n",
    "def say_hi():\n",
    "    print(\"Hi.\")\n",
    "    \n",
    "@track_invocations_decorator\n",
    "def scare_me():\n",
    "    print(\"Boo!\")"
   ]
  },
  {
   "cell_type": "code",
   "execution_count": null,
   "id": "4b02f6e2-a635-47db-bbd8-713fb173d62e",
   "metadata": {},
   "outputs": [],
   "source": [
    "say_hi()\n",
    "scare_me()"
   ]
  },
  {
   "cell_type": "markdown",
   "id": "7212bcbb-9199-4b43-85c2-a42d26ebb643",
   "metadata": {},
   "source": [
    "## Debugging decorator"
   ]
  },
  {
   "cell_type": "code",
   "execution_count": null,
   "id": "8723c4a5-54e1-40ea-b0e9-edaa43abb040",
   "metadata": {},
   "outputs": [],
   "source": [
    "import functools\n",
    "\n",
    "def debug(func):\n",
    "    @functools.wraps(func)\n",
    "    def wrapper(*args, **kwargs):\n",
    "        args_representation = [repr(a) for a in args]\n",
    "        kwargs_representation = [f\"{k}={v!r}\" for k, v in kwargs.items()]\n",
    "        signature = \", \".join(args_representation + kwargs_representation)\n",
    "        print(f\"Calling {func.__name__}({signature})\")\n",
    "        \n",
    "        value = func(*args, **kwargs)\n",
    "        print(f\"{func.__name__!r} returned {value!r}\")\n",
    "        \n",
    "        return value\n",
    "    \n",
    "    return wrapper"
   ]
  },
  {
   "cell_type": "markdown",
   "id": "17f2571d-8974-4610-8c6c-609b8957138d",
   "metadata": {},
   "source": [
    "## Using the debugging decorator"
   ]
  },
  {
   "cell_type": "code",
   "execution_count": null,
   "id": "944da1f8-faef-47f3-ab38-c8ddd23e5455",
   "metadata": {},
   "outputs": [],
   "source": [
    "@debug\n",
    "def cube(n):\n",
    "    return n**3"
   ]
  },
  {
   "cell_type": "code",
   "execution_count": null,
   "id": "1ed366f2-0c4d-4a22-8b80-c2837c752490",
   "metadata": {},
   "outputs": [],
   "source": [
    "print(cube(n=4))"
   ]
  },
  {
   "cell_type": "code",
   "execution_count": null,
   "id": "3914e997-ef51-4456-a5c3-c2940e6c9db2",
   "metadata": {},
   "outputs": [],
   "source": [
    "import math\n",
    "\n",
    "factorial = debug(math.factorial)\n",
    "\n",
    "print(factorial(6))"
   ]
  },
  {
   "cell_type": "markdown",
   "id": "b15a8407-2e82-4618-a1fd-29669e32a02f",
   "metadata": {},
   "source": [
    "## Caching decorator"
   ]
  },
  {
   "cell_type": "code",
   "execution_count": null,
   "id": "d0f760eb-6d44-473c-8dbe-cbf13ec48b43",
   "metadata": {},
   "outputs": [],
   "source": [
    "import functools\n",
    "\n",
    "def cache(func):\n",
    "    cached_values = {}\n",
    "    \n",
    "    @functools.wraps(func)    \n",
    "    def wrapper(*args, **kwargs):\n",
    "        key = args + tuple(kwargs.items())\n",
    "        if key not in cached_values:\n",
    "            cached_values[key] = func(*args, **kwargs)\n",
    "        \n",
    "        return cached_values[key]\n",
    "        \n",
    "    return wrapper"
   ]
  },
  {
   "cell_type": "code",
   "execution_count": null,
   "id": "da60d10b-a6e0-4108-a1a8-044639a72ba1",
   "metadata": {},
   "outputs": [],
   "source": [
    "import math\n",
    "\n",
    "@cache\n",
    "def is_prime(n):\n",
    "    if n <= 1:\n",
    "        return False\n",
    "\n",
    "    for i in range(2, int(math.sqrt(n)) + 1):\n",
    "        if n % i == 0:\n",
    "            return False\n",
    "\n",
    "    return True"
   ]
  },
  {
   "cell_type": "code",
   "execution_count": null,
   "id": "42244a4d-d0f0-45f9-bc1c-6b79284ba6f4",
   "metadata": {},
   "outputs": [],
   "source": [
    "from timeit import timeit\n",
    "\n",
    "print(timeit(lambda: is_prime(270001008058013), number=1))\n",
    "print(timeit(lambda: is_prime(270001008058013), number=1))"
   ]
  },
  {
   "cell_type": "markdown",
   "id": "f886d6d1-044f-458b-a120-408be8c641bb",
   "metadata": {},
   "source": [
    "## Monkey patching functions"
   ]
  },
  {
   "cell_type": "code",
   "execution_count": null,
   "id": "4714a044-4700-46de-a348-86b8f28af7f5",
   "metadata": {},
   "outputs": [],
   "source": [
    "import numpy as np\n",
    "\n",
    "def estimate_project_duration(min, max):\n",
    "    return np.random.uniform(min, max)"
   ]
  },
  {
   "cell_type": "code",
   "execution_count": null,
   "id": "b827d888-c833-4d25-91df-161b07d4d37c",
   "metadata": {},
   "outputs": [],
   "source": [
    "print(estimate_project_duration(5, 10))"
   ]
  },
  {
   "cell_type": "code",
   "execution_count": null,
   "id": "9e1b6352-e1d7-46a3-9db5-597d9f2061dd",
   "metadata": {},
   "outputs": [],
   "source": [
    "original_function = np.random.uniform"
   ]
  },
  {
   "cell_type": "code",
   "execution_count": null,
   "id": "a590910b-990a-4578-a410-0f39a9cc09cb",
   "metadata": {},
   "outputs": [],
   "source": [
    "np.random.uniform = lambda low, high: np.random.triangular(\n",
    "    low, (low + high) / 2, high\n",
    ")"
   ]
  },
  {
   "cell_type": "code",
   "execution_count": null,
   "id": "2d62cade-1f76-4558-87eb-41855cf6e995",
   "metadata": {},
   "outputs": [],
   "source": [
    "print(estimate_project_duration(5, 10))"
   ]
  },
  {
   "cell_type": "code",
   "execution_count": null,
   "id": "f3d6e782-3a4e-41a4-9978-5b9f8c2b51e3",
   "metadata": {},
   "outputs": [],
   "source": [
    "np.random.uniform = original_function"
   ]
  },
  {
   "cell_type": "markdown",
   "id": "79522ce5-9e27-413b-9a69-4375f11838f8",
   "metadata": {},
   "source": [
    "## Dynamically creating classes"
   ]
  },
  {
   "cell_type": "code",
   "execution_count": null,
   "id": "2b6c86dd-7a50-4f48-849d-54eac2abe60d",
   "metadata": {},
   "outputs": [],
   "source": [
    "import math\n",
    "\n",
    "def init_circle(self, radius):\n",
    "    self.radius = radius\n",
    "\n",
    "Circle = type(\"Circle\", (), {\n",
    "    \"__init__\": init_circle,\n",
    "    \"calculate_area\": lambda x: math.pi * x.radius ** 2\n",
    "})\n",
    "\n",
    "circle = Circle(5)\n",
    "\n",
    "print(circle.calculate_area())"
   ]
  },
  {
   "cell_type": "markdown",
   "id": "cc43a99c-a2eb-4973-81f4-d9ee4831290a",
   "metadata": {},
   "source": [
    "## Plug-in registration"
   ]
  },
  {
   "cell_type": "code",
   "execution_count": null,
   "id": "ac36a5c7-15c5-434f-b704-1a4748ce5e17",
   "metadata": {},
   "outputs": [],
   "source": [
    "class PlugInRegistry(type):\n",
    "    plug_ins = []\n",
    "    def __init__(cls, name, bases, attrs):\n",
    "        if name != \"PlugIn\":\n",
    "            PlugInRegistry.plug_ins.append(cls)\n",
    "\n",
    "class PlugIn(metaclass=PlugInRegistry):\n",
    "    pass\n",
    "\n",
    "class ImagePlugIn(PlugIn):\n",
    "    pass\n",
    "\n",
    "class AudioPlugIn(PlugIn):\n",
    "    pass\n",
    "\n",
    "class VideoPlugIn(PlugIn):\n",
    "    pass\n",
    "\n",
    "print(PlugInRegistry.plug_ins)"
   ]
  },
  {
   "cell_type": "markdown",
   "id": "f718483d-90fe-40b7-9617-3c12f816aa25",
   "metadata": {},
   "source": [
    "## Dataclasses"
   ]
  },
  {
   "cell_type": "code",
   "execution_count": null,
   "id": "93845869-6c1a-431c-818b-63ee24529c4f",
   "metadata": {},
   "outputs": [],
   "source": [
    "from dataclasses import dataclass\n",
    "\n",
    "@dataclass\n",
    "class Wager:\n",
    "    selection: str\n",
    "    kind: str\n",
    "    price: float\n",
    "    \n",
    "bet1 = Wager(\"Chelsea\", \"win\", 5.)\n",
    "bet2 = Wager(\"Chelsea\", \"win\", 5.)\n",
    "\n",
    "print(bet1)\n",
    "print(bet1.selection)\n",
    "print(bet1 == bet2)"
   ]
  },
  {
   "cell_type": "code",
   "execution_count": null,
   "id": "0a66d3ad-2f6a-40c2-984a-335a2b5c62ec",
   "metadata": {},
   "outputs": [],
   "source": [
    "class WagerRegularClass:\n",
    "    def __init__(self, selection, kind, price):\n",
    "        self.selection = selection\n",
    "        self.kind = kind\n",
    "        self.price = price\n",
    "    \n",
    "bet1_rc = WagerRegularClass(\"Chelsea\", \"win\", 5.)\n",
    "bet2_rc = Wager(\"Chelsea\", \"win\", 5.)\n",
    "\n",
    "print(bet1_rc)\n",
    "print(bet1_rc.selection)\n",
    "print(bet1_rc == bet2_rc)"
   ]
  },
  {
   "cell_type": "markdown",
   "id": "7fae8274-d6b6-4b23-b9c7-89b51cb7c634",
   "metadata": {},
   "source": [
    "## Structural pattern matching"
   ]
  },
  {
   "cell_type": "code",
   "execution_count": null,
   "id": "99d7d124-10e4-4697-b688-df6995356d85",
   "metadata": {},
   "outputs": [],
   "source": [
    "file_type = \"gif\"\n",
    "\n",
    "match file_type:\n",
    "    case \"gif\":\n",
    "        print(\"Process JPG file\")   \n",
    "    case \"jpg\":\n",
    "        print(\"Process PNG file\")\n",
    "    case \"png\":\n",
    "        print(\"Process JPG file\")\n",
    "    case _:\n",
    "        print(\"Process unknown file\")             "
   ]
  },
  {
   "cell_type": "markdown",
   "id": "9da5134c-dfa8-4029-81f9-c049f044d8a7",
   "metadata": {},
   "source": [
    "## Structural pattern matching with enums"
   ]
  },
  {
   "cell_type": "code",
   "execution_count": null,
   "id": "ceb3b452-2a1a-4ed2-ae0f-37ffba917d5b",
   "metadata": {},
   "outputs": [],
   "source": [
    "from enum import Enum\n",
    "\n",
    "class FileType(Enum):\n",
    "    GIF = 0\n",
    "    JPG = 1\n",
    "    PNG = 2\n",
    "    \n",
    "file_type = FileType.GIF\n",
    "\n",
    "match file_type:\n",
    "    case FileType.GIF:\n",
    "        print(\"Process JPG file\")   \n",
    "    case FileType.GIF:\n",
    "        print(\"Process PNG file\")\n",
    "    case FileType.GIF:\n",
    "        print(\"Process JPG file\")\n",
    "    case _:\n",
    "        print(\"Process unknown file\")  "
   ]
  },
  {
   "cell_type": "markdown",
   "id": "4b8be230-3aae-487e-b54a-7bc7b53202b5",
   "metadata": {
    "tags": []
   },
   "source": [
    "## Structural pattern matching with multiple elements"
   ]
  },
  {
   "cell_type": "code",
   "execution_count": null,
   "id": "daf670ef-4cd5-4172-b4d7-9c11b147dd2c",
   "metadata": {},
   "outputs": [],
   "source": [
    "fractional_price = [3, 0]\n",
    "\n",
    "match fractional_price:\n",
    "    case [n, 0]:\n",
    "        print(\"Infinity\")\n",
    "    case [n, 1]:\n",
    "        print(n)\n",
    "    case [n, d]:\n",
    "        print(n / d)\n",
    "    case _:\n",
    "        print(\"Not a fractional price)            "
   ]
  },
  {
   "cell_type": "markdown",
   "id": "54896551-e5dc-4460-a701-49200ebaf76b",
   "metadata": {},
   "source": [
    "## Structural pattern matching with guards"
   ]
  },
  {
   "cell_type": "code",
   "execution_count": null,
   "id": "09ad4309-bd1e-4894-a15b-d208b7752857",
   "metadata": {},
   "outputs": [],
   "source": [
    "fractional_price = [3, -1]\n",
    "\n",
    "match fractional_price:\n",
    "    case [n, d] if (n < 0) or (d < 0):\n",
    "        print(\"Cannot have negative prices\")\n",
    "    case [n, 0]:\n",
    "        print(\"Infinity\")\n",
    "    case [n, 1]:\n",
    "        print(n)\n",
    "    case [n, d]:\n",
    "        print(n / d)\n",
    "    case _:\n",
    "        print(\"Not a fractional price)       "
   ]
  }
 ],
 "metadata": {
  "kernelspec": {
   "display_name": "Python 3 (ipykernel)",
   "language": "python",
   "name": "python3"
  },
  "language_info": {
   "codemirror_mode": {
    "name": "ipython",
    "version": 3
   },
   "file_extension": ".py",
   "mimetype": "text/x-python",
   "name": "python",
   "nbconvert_exporter": "python",
   "pygments_lexer": "ipython3",
   "version": "3.9.6"
  }
 },
 "nbformat": 4,
 "nbformat_minor": 5
}
