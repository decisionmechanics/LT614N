{
 "cells": [
  {
   "cell_type": "markdown",
   "id": "1b5fba77-d9e2-40ac-bc2f-401667504fe3",
   "metadata": {},
   "source": [
    "# Create a context manager"
   ]
  },
  {
   "cell_type": "markdown",
   "id": "d00d6071-d7e4-4f63-a000-ba16162d0dcf",
   "metadata": {},
   "source": [
    "Create a context manager that reports the time when an operation (or sequence of operations) completed."
   ]
  },
  {
   "cell_type": "markdown",
   "id": "5f28916f-94fe-4092-a876-66c22e01da51",
   "metadata": {},
   "source": [
    "Load the libraries."
   ]
  },
  {
   "cell_type": "code",
   "execution_count": null,
   "id": "f5684147-dd42-4183-b788-5fe7632e9cfe",
   "metadata": {},
   "outputs": [],
   "source": [
    "from contextlib import contextmanager\n",
    "import datetime as dt\n",
    "from time import sleep"
   ]
  },
  {
   "cell_type": "markdown",
   "id": "dd9339c5-0747-4c0b-bcdc-870387c66b6b",
   "metadata": {},
   "source": [
    "Create the context manager."
   ]
  },
  {
   "cell_type": "code",
   "execution_count": null,
   "id": "b05502eb-f5c0-4ad8-9e24-885a9e82002c",
   "metadata": {},
   "outputs": [],
   "source": [
    "@contextmanager\n",
    "def finish_time_context_manager():\n",
    "    finished_at = None\n",
    "    \n",
    "    yield lambda: finished_at\n",
    "    \n",
    "    finished_at = dt.datetime.now()"
   ]
  },
  {
   "cell_type": "markdown",
   "id": "ea4b546f-1fb8-4831-9939-95845846a6fe",
   "metadata": {},
   "source": [
    "Use the context manager to find out when a long-running operation finishes."
   ]
  },
  {
   "cell_type": "code",
   "execution_count": null,
   "id": "9fd87e09-f709-4c14-910e-084778d566df",
   "metadata": {},
   "outputs": [],
   "source": [
    "print(f\"Started at {dt.datetime.now()}\")\n",
    "\n",
    "with finish_time_context_manager() as finish_time:\n",
    "    sleep(3)\n",
    "    \n",
    "print(f\"Started at {finish_time()}\")"
   ]
  }
 ],
 "metadata": {
  "kernelspec": {
   "display_name": "Python 3 (ipykernel)",
   "language": "python",
   "name": "python3"
  },
  "language_info": {
   "codemirror_mode": {
    "name": "ipython",
    "version": 3
   },
   "file_extension": ".py",
   "mimetype": "text/x-python",
   "name": "python",
   "nbconvert_exporter": "python",
   "pygments_lexer": "ipython3",
   "version": "3.9.6"
  }
 },
 "nbformat": 4,
 "nbformat_minor": 5
}
