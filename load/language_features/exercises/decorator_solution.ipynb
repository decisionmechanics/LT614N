{
 "cells": [
  {
   "cell_type": "markdown",
   "id": "c7408914-3de3-40f6-8084-cfa980e90bc2",
   "metadata": {},
   "source": [
    "# Create a timing decorator"
   ]
  },
  {
   "cell_type": "markdown",
   "id": "27eae9d7-69b6-4977-ac9c-6e542c34732c",
   "metadata": {},
   "source": [
    "Create a decorator that calculates, and reports, the time taken for a block of code to run to completion."
   ]
  },
  {
   "cell_type": "markdown",
   "id": "51584e6f-55ba-4748-9306-b8479aeb9d7c",
   "metadata": {},
   "source": [
    "Load the libraries."
   ]
  },
  {
   "cell_type": "code",
   "execution_count": 4,
   "id": "5c014ff0-a600-4bd6-9d05-fc09ba86e0eb",
   "metadata": {},
   "outputs": [],
   "source": [
    "import functools\n",
    "import math\n",
    "from time import perf_counter, sleep"
   ]
  },
  {
   "cell_type": "markdown",
   "id": "7eae15b6-6b1e-4b1c-b69d-585481429af5",
   "metadata": {},
   "source": [
    "Create the decorator. Note that the return value of the wrapper function is stored to be returned after the duration has been reported."
   ]
  },
  {
   "cell_type": "code",
   "execution_count": 11,
   "id": "c31ee60b-3d14-41ff-ae6f-56df3388302d",
   "metadata": {
    "tags": []
   },
   "outputs": [],
   "source": [
    "def timer_decorator(func):    \n",
    "    @functools.wraps(func)\n",
    "    def wrapper(*args, **kwargs):\n",
    "        start = perf_counter()\n",
    "\n",
    "        result = func(*args, **kwargs)\n",
    "        \n",
    "        duration = perf_counter() - start\n",
    "        \n",
    "        print(f\"{func.__name__} took {duration} second(s) to complete\")\n",
    "        \n",
    "        return result\n",
    "        \n",
    "    return wrapper"
   ]
  },
  {
   "cell_type": "markdown",
   "id": "72daacc7-0490-4f19-b24c-de55c7164903",
   "metadata": {},
   "source": [
    "Decorate a long-running function."
   ]
  },
  {
   "cell_type": "code",
   "execution_count": 12,
   "id": "6942d491-7125-4547-87ec-01857f9ca3d7",
   "metadata": {},
   "outputs": [],
   "source": [
    "@timer_decorator\n",
    "def wastefully_calculate_factorial(n):\n",
    "    sleep(3)\n",
    "    \n",
    "    return math.factorial(n)"
   ]
  },
  {
   "cell_type": "markdown",
   "id": "4f918c7c-a85d-41e9-b917-ed3f408b696e",
   "metadata": {},
   "source": [
    "Call the long-running function."
   ]
  },
  {
   "cell_type": "code",
   "execution_count": 14,
   "id": "15f61591-bbff-4010-9c37-158ba6375026",
   "metadata": {},
   "outputs": [
    {
     "name": "stdout",
     "output_type": "stream",
     "text": [
      "wastefully_calculate_factorial took 3.003527100008796 second(s) to complete\n",
      "720\n"
     ]
    }
   ],
   "source": [
    "print(wastefully_calculate_factorial(6))"
   ]
  }
 ],
 "metadata": {
  "kernelspec": {
   "display_name": "Python 3 (ipykernel)",
   "language": "python",
   "name": "python3"
  },
  "language_info": {
   "codemirror_mode": {
    "name": "ipython",
    "version": 3
   },
   "file_extension": ".py",
   "mimetype": "text/x-python",
   "name": "python",
   "nbconvert_exporter": "python",
   "pygments_lexer": "ipython3",
   "version": "3.9.6"
  }
 },
 "nbformat": 4,
 "nbformat_minor": 5
}
