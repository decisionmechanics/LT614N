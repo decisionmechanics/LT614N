{
 "cells": [
  {
   "cell_type": "markdown",
   "id": "610dde44-60c5-4fc6-b9ad-a5b210e61d24",
   "metadata": {},
   "source": [
    "# Evaluate a poker hand"
   ]
  },
  {
   "cell_type": "markdown",
   "id": "cd028725-581b-4976-9921-0df6b3db11b4",
   "metadata": {},
   "source": [
    "Create a dataclass for a card. Cards have a suit and a value.\n",
    "\n",
    "You can simplify things by using numbers for Jack, Queen, King and Ace."
   ]
  },
  {
   "cell_type": "code",
   "execution_count": null,
   "id": "8ec757d2-c19d-4055-9730-e4f0bb5d3daf",
   "metadata": {},
   "outputs": [],
   "source": [
    "from enum import Enum\n",
    "\n",
    "class Suit(Enum):\n",
    "    CLUBS = 0\n",
    "    DIAMONDS = 1\n",
    "    HEARTS = 2\n",
    "    SPADES = 3"
   ]
  },
  {
   "cell_type": "code",
   "execution_count": null,
   "id": "c0a7ae01-8d83-4f00-9b08-e01a88f95910",
   "metadata": {},
   "outputs": [],
   "source": [
    "from dataclasses import dataclass\n",
    "\n",
    "@dataclass\n",
    "class Card:\n",
    "    suit: Suit\n",
    "    value: int"
   ]
  },
  {
   "cell_type": "markdown",
   "id": "65eee662-83ce-40e3-a7bd-9579a4551146",
   "metadata": {},
   "source": [
    "Create a hand of five cards."
   ]
  },
  {
   "cell_type": "code",
   "execution_count": null,
   "id": "a128e1f4-f57b-4e41-bb56-55283199cefa",
   "metadata": {},
   "outputs": [],
   "source": [
    "hand = (\n",
    "    Card(Suit.CLUBS, 2),\n",
    "    Card(Suit.DIAMONDS, 2),\n",
    "    Card(Suit.HEARTS, 2),\n",
    "    Card(Suit.CLUBS, 12),\n",
    "    Card(Suit.SPADES, 12)\n",
    ")"
   ]
  },
  {
   "cell_type": "markdown",
   "id": "bc9a52ae-0793-4ebf-8bfa-9dcee49978c0",
   "metadata": {},
   "source": [
    "Create a function that will determine if a hand represents a full house.\n",
    "\n",
    "A full house in poker is three cards of one value, and two of another value."
   ]
  },
  {
   "cell_type": "code",
   "execution_count": null,
   "id": "164b7b84-4f6d-4417-8ad0-30bad69572b6",
   "metadata": {},
   "outputs": [],
   "source": [
    "def is_full_house(hand):\n",
    "    card_frequencies = {}\n",
    "    \n",
    "    for card in hand:\n",
    "        card_frequencies[card.value] = card_frequencies.get(card.value, 0) + 1\n",
    "        \n",
    "    return sorted(card_frequencies.values()) == [2, 3]"
   ]
  },
  {
   "cell_type": "markdown",
   "id": "598a4119-65f8-403d-b4bf-36318b5405c2",
   "metadata": {},
   "source": [
    "Check if your hand is a full house."
   ]
  },
  {
   "cell_type": "code",
   "execution_count": null,
   "id": "a94fd6d0-b9fe-4a24-a86d-da929f063b8b",
   "metadata": {},
   "outputs": [],
   "source": [
    "print(is_full_house(hand))"
   ]
  }
 ],
 "metadata": {
  "kernelspec": {
   "display_name": "Python 3 (ipykernel)",
   "language": "python",
   "name": "python3"
  },
  "language_info": {
   "codemirror_mode": {
    "name": "ipython",
    "version": 3
   },
   "file_extension": ".py",
   "mimetype": "text/x-python",
   "name": "python",
   "nbconvert_exporter": "python",
   "pygments_lexer": "ipython3",
   "version": "3.9.6"
  }
 },
 "nbformat": 4,
 "nbformat_minor": 5
}
