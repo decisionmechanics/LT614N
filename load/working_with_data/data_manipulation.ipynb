{
 "cells": [
  {
   "cell_type": "markdown",
   "id": "2bf99947-bc73-4162-9a0a-8f5cfadb75d1",
   "metadata": {},
   "source": [
    "# Data manipulation verbs"
   ]
  },
  {
   "cell_type": "markdown",
   "id": "79075692-ce41-472b-914a-302aad0de2db",
   "metadata": {},
   "source": [
    "An oft-repeated statistic is that 80% of data science work is data manipulation and preparation. The data manipulation verbs are the workhorses of this phase."
   ]
  },
  {
   "cell_type": "code",
   "execution_count": null,
   "id": "ae6d2074-7af3-4499-a846-d70aa88a52e3",
   "metadata": {},
   "outputs": [],
   "source": [
    "import numpy as np\n",
    "import pandas as pd"
   ]
  },
  {
   "cell_type": "markdown",
   "id": "0a1cb89d-65be-4b68-99da-24620a6df432",
   "metadata": {},
   "source": [
    "Load `epl_2020_2021.parquet` into a Pandas data frame (`df`).\n",
    "\n",
    "This contains all the English Premier league matches during the 2020/2021 season."
   ]
  },
  {
   "cell_type": "code",
   "execution_count": null,
   "id": "cdae83db-82e8-47a9-8045-d64df7f54457",
   "metadata": {},
   "outputs": [],
   "source": [
    "df = pd.read_parquet(\"epl_2020_2021.parquet\")"
   ]
  },
  {
   "cell_type": "markdown",
   "id": "43db5e7f-68b9-453c-bcca-be6f1df85ab1",
   "metadata": {},
   "source": [
    "View the contents of the `df` data frame."
   ]
  },
  {
   "cell_type": "code",
   "execution_count": null,
   "id": "730cd3fc-83c5-4c66-916f-dd44dad9b299",
   "metadata": {},
   "outputs": [],
   "source": [
    "df"
   ]
  },
  {
   "cell_type": "markdown",
   "id": "d45710eb-0d08-40b2-985d-08cac5d58b41",
   "metadata": {},
   "source": [
    "## Select\n",
    "\n",
    "Selecting is choosing a subset of columns. Data sources often contain many irrelavant fields---often large text fields.\n",
    "\n",
    "Reducing the data to contain just the column you need makes it easier to work with and is memory efficient."
   ]
  },
  {
   "cell_type": "markdown",
   "id": "ce0b9b06-5a56-4d5e-8778-b2c0ae36511f",
   "metadata": {},
   "source": [
    "Select the `HomeTeam`, `AwayTeam`, `FTHG` and `total_revenue`, `FTAG`, `B365H`, `B365D` and `B365A` columns from `df`. Save the result in `fulltime_df`."
   ]
  },
  {
   "cell_type": "code",
   "execution_count": null,
   "id": "a9da24c0-2766-41a4-ae0a-6679489b180c",
   "metadata": {},
   "outputs": [],
   "source": [
    "fulltime_df = df.loc[:, [\"HomeTeam\", \"AwayTeam\", \"FTHG\", \"FTAG\", \"B365H\", \"B365D\", \"B365A\"]]"
   ]
  },
  {
   "cell_type": "markdown",
   "id": "7de70a0a-5ae0-421b-8de2-017628eccd05",
   "metadata": {},
   "source": [
    "Give the fields better names."
   ]
  },
  {
   "cell_type": "code",
   "execution_count": null,
   "id": "ceffb983-d67f-45a2-8d89-0254d9a30ff1",
   "metadata": {},
   "outputs": [],
   "source": [
    "fulltime_df.rename({\n",
    "    \"HomeTeam\": \"home_team\", \n",
    "    \"AwayTeam\": \"away_team\", \n",
    "    \"FTHG\": \"home_goals\", \n",
    "    \"FTAG\": \"away_goals\",\n",
    "    \"B365H\": \"home_win_price\",\n",
    "    \"B365D\": \"draw_price\",\n",
    "    \"B365A\": \"away_win_price\",\n",
    "}, axis=1, inplace=True)"
   ]
  },
  {
   "cell_type": "markdown",
   "id": "95dbfc8d-b695-42a9-bac3-3bb4e657f972",
   "metadata": {},
   "source": [
    "View the contents of `fulltime_df`."
   ]
  },
  {
   "cell_type": "code",
   "execution_count": null,
   "id": "a6d88ea7-8720-45a4-8331-116895c91eab",
   "metadata": {},
   "outputs": [],
   "source": [
    "fulltime_df"
   ]
  },
  {
   "cell_type": "markdown",
   "id": "822109e1-ae4a-46bb-ace9-f14269dab746",
   "metadata": {},
   "source": [
    "We'll use `fulltime_df` in subsequent steps as it's easier to work with."
   ]
  },
  {
   "cell_type": "markdown",
   "id": "8eec4c55-a6d5-4d02-b1b2-607df2f2f2b5",
   "metadata": {},
   "source": [
    "## Filter\n",
    "\n",
    "Filtering allows us to select only the observation (rows) of interest."
   ]
  },
  {
   "cell_type": "markdown",
   "id": "9aefe4ea-0a65-4717-b31d-af0e393a7a30",
   "metadata": {},
   "source": [
    "Find all the matches in `fulltime_df` where Manchester City played Manchester United."
   ]
  },
  {
   "cell_type": "code",
   "execution_count": null,
   "id": "5ccd1c74-9398-4320-9952-a293bbf6b9ab",
   "metadata": {},
   "outputs": [],
   "source": [
    "fulltime_df[fulltime_df[\"home_team\"].isin((\"Man City\", \"Man United\")) & fulltime_df[\"away_team\"].isin((\"Man City\", \"Man United\"))]"
   ]
  },
  {
   "cell_type": "markdown",
   "id": "97dd431f-0e17-4f54-9e1b-468f359bca6f",
   "metadata": {},
   "source": [
    "## Sort\n",
    "\n",
    "Sorting allows us to rearrange the order of the observations (rows). We can use this to examine outliers. \n",
    "\n",
    "It's also useful when presenting the data (in tabular or chart formats)."
   ]
  },
  {
   "cell_type": "markdown",
   "id": "14de825e-6af8-4162-86a8-adc97fedf0e1",
   "metadata": {},
   "source": [
    "Sort `fulltime_df` in descending order of `home_win_price`."
   ]
  },
  {
   "cell_type": "code",
   "execution_count": null,
   "id": "616522ab-ba32-4b62-ac8b-baec36c59396",
   "metadata": {},
   "outputs": [],
   "source": [
    "fulltime_df.sort_values(\"home_win_price\", ascending=False)"
   ]
  },
  {
   "cell_type": "markdown",
   "id": "86ac4b2b-e1fd-4ec3-9453-84f600965a72",
   "metadata": {},
   "source": [
    "## Mutate\n",
    "\n",
    "Mutating allows us to modify or create new data---often entire columns."
   ]
  },
  {
   "cell_type": "markdown",
   "id": "06406867-dd7a-430b-9ef8-44e0f4817661",
   "metadata": {},
   "source": [
    "Create a new `goal_difference` field in `fulltime_df`."
   ]
  },
  {
   "cell_type": "code",
   "execution_count": null,
   "id": "2ac808e3-394c-44db-9145-1c10449df653",
   "metadata": {},
   "outputs": [],
   "source": [
    "fulltime_df[\"goal_difference\"] = (fulltime_df[\"home_goals\"] - fulltime_df[\"away_goals\"]).abs()"
   ]
  },
  {
   "cell_type": "markdown",
   "id": "ca9431ee-c73d-43b3-93fe-507627984134",
   "metadata": {},
   "source": [
    "View the contents of `fulltime_df`."
   ]
  },
  {
   "cell_type": "code",
   "execution_count": null,
   "id": "198eacea-518e-4dee-b9e8-4176440d21eb",
   "metadata": {},
   "outputs": [],
   "source": [
    "fulltime_df"
   ]
  },
  {
   "cell_type": "markdown",
   "id": "ad0784ab-2d8a-4ff5-9200-fd4b697fb4e7",
   "metadata": {},
   "source": [
    "We can also mutate multiple columns using a custom function."
   ]
  },
  {
   "cell_type": "markdown",
   "id": "7b91ce03-b549-4c53-9c71-d85cefb7377b",
   "metadata": {},
   "source": [
    "Create a `calculate_probability` function that takes a decimal betting price and returns an implied probability."
   ]
  },
  {
   "cell_type": "code",
   "execution_count": null,
   "id": "93b2766f-800e-4df7-8b77-a1faceb7b3d6",
   "metadata": {},
   "outputs": [],
   "source": [
    "def calculate_probability(price):\n",
    "    return 1 / price"
   ]
  },
  {
   "cell_type": "markdown",
   "id": "b0632d78-0890-4cf3-bd7b-7126811a4578",
   "metadata": {},
   "source": [
    "Create `home_win_probability`, `draw_probability` and `away_win_probability` columns in `fulltime_df`."
   ]
  },
  {
   "cell_type": "code",
   "execution_count": null,
   "id": "9793dee8-e67c-408c-9c9e-e558d4e7f6f8",
   "metadata": {},
   "outputs": [],
   "source": [
    "fulltime_df[[\n",
    "    \"home_win_probability\", \n",
    "    \"draw_probability\", \n",
    "    \"away_win_probability\"\n",
    "]] = fulltime_df[[\n",
    "    \"home_win_price\", \n",
    "    \"draw_price\", \n",
    "    \"away_win_price\"\n",
    "]].apply(calculate_probability, result_type=\"expand\")"
   ]
  },
  {
   "cell_type": "markdown",
   "id": "33f36ce9-217d-4616-831d-a9f2633a8c8f",
   "metadata": {},
   "source": [
    "View the (expanded) contents of `fulltime_df`."
   ]
  },
  {
   "cell_type": "code",
   "execution_count": null,
   "id": "6f32dc26-8302-43a3-a03e-5474ebd118dd",
   "metadata": {},
   "outputs": [],
   "source": [
    "fulltime_df"
   ]
  },
  {
   "cell_type": "markdown",
   "id": "145e89bd-957e-49c3-8341-981271dabe0c",
   "metadata": {},
   "source": [
    "Drop the implied probability columns from `fulltime_df`."
   ]
  },
  {
   "cell_type": "code",
   "execution_count": null,
   "id": "aab02ece-7205-4314-830e-c87d47b46832",
   "metadata": {},
   "outputs": [],
   "source": [
    "fulltime_df.drop([\"home_win_probability\", \"draw_probability\", \"away_win_probability\"], axis=1, inplace=True)"
   ]
  },
  {
   "cell_type": "markdown",
   "id": "6b66caf4-a201-4b3d-92b8-323b6de01ba2",
   "metadata": {},
   "source": [
    "We can also apply a custom function to multiple columns."
   ]
  },
  {
   "cell_type": "markdown",
   "id": "2b1da345-b162-4665-b9b7-f159c786e062",
   "metadata": {},
   "source": [
    "Define a `calculate_goal_difference` function."
   ]
  },
  {
   "cell_type": "code",
   "execution_count": null,
   "id": "6b5e4fee-3091-477e-b792-2b88752af02a",
   "metadata": {},
   "outputs": [],
   "source": [
    "def calculate_goal_difference(home_goals, away_goals):\n",
    "    return abs(home_goals - away_goals)"
   ]
  },
  {
   "cell_type": "markdown",
   "id": "a4419cb3-3291-46f9-98ef-d8b90e2ad256",
   "metadata": {},
   "source": [
    "Apply `calculate_goal_difference` to `fulltime_df`."
   ]
  },
  {
   "cell_type": "code",
   "execution_count": null,
   "id": "23e574b2-2790-4cbd-8348-3875db983d52",
   "metadata": {},
   "outputs": [],
   "source": [
    "fulltime_df[[\"home_goals\", \"away_goals\"]].apply(lambda x: calculate_goal_difference(*x), axis=1)"
   ]
  },
  {
   "cell_type": "markdown",
   "id": "ba8ad0a3-4e6c-4b4a-ac93-fb52818e47ba",
   "metadata": {},
   "source": [
    "## Aggregate\n",
    "\n",
    "Aggregating allows us to summarise across a number of rows, such as the entire data frame."
   ]
  },
  {
   "cell_type": "markdown",
   "id": "479ac946-ec57-408a-a091-a26c29eda93e",
   "metadata": {},
   "source": [
    "Calculate the maximum value of all the numeric fields in `fulltime_df`."
   ]
  },
  {
   "cell_type": "code",
   "execution_count": null,
   "id": "f07280a7-2511-45ed-8ab7-99d397c23cf8",
   "metadata": {},
   "outputs": [],
   "source": [
    "fulltime_df.max(numeric_only = True)"
   ]
  },
  {
   "cell_type": "markdown",
   "id": "08b03775-c90c-4aca-a29a-1a92b7a84cb5",
   "metadata": {},
   "source": [
    "Calculate the total of all the numeric fields in `fulltime_df`."
   ]
  },
  {
   "cell_type": "code",
   "execution_count": null,
   "id": "0234d449-47a4-4e69-b7d5-544870881917",
   "metadata": {},
   "outputs": [],
   "source": [
    "fulltime_df.sum(numeric_only = True)"
   ]
  },
  {
   "cell_type": "markdown",
   "id": "e205fe78-09a6-4c78-a017-060e64b6edef",
   "metadata": {},
   "source": [
    "Calculate the median of all the numeric fields in `resources_df`."
   ]
  },
  {
   "cell_type": "code",
   "execution_count": null,
   "id": "a0bf38fc-b913-4215-b967-a0abd45dfe1b",
   "metadata": {},
   "outputs": [],
   "source": [
    "fulltime_df.median(numeric_only = True)"
   ]
  },
  {
   "cell_type": "markdown",
   "id": "372fc916-5f56-4479-8a24-7af78f2477d2",
   "metadata": {},
   "source": [
    "Or calculate them all at once."
   ]
  },
  {
   "cell_type": "code",
   "execution_count": null,
   "id": "7685ffb8-1a9b-4408-b451-5d7f020a2ec6",
   "metadata": {},
   "outputs": [],
   "source": [
    "fulltime_df.loc[:, \"home_goals\":\"goal_difference\"].agg([\"max\", \"sum\", \"median\"]).T"
   ]
  },
  {
   "cell_type": "markdown",
   "id": "180f63e8-0c7e-489c-9035-0dedfb1ce8d3",
   "metadata": {},
   "source": [
    "## Group\n",
    "\n",
    "Grouping allows us to split the data into subsets. It's often used in conjunction with aggregation."
   ]
  },
  {
   "cell_type": "markdown",
   "id": "851b2d97-4c8b-4917-aba4-5637e7b32d8e",
   "metadata": {},
   "source": [
    "Get the mean values for all columns in `fulltime_df` broken down (grouped) by `home_team`."
   ]
  },
  {
   "cell_type": "code",
   "execution_count": null,
   "id": "32fe3e9c-a711-41d8-9472-aab24c29ceb8",
   "metadata": {},
   "outputs": [],
   "source": [
    "fulltime_df.groupby(\"home_team\").mean()"
   ]
  },
  {
   "cell_type": "markdown",
   "id": "25f4dded-d452-4001-bd95-11e8fec322cc",
   "metadata": {},
   "source": [
    "Calculate median and IQR grouped by home team."
   ]
  },
  {
   "cell_type": "code",
   "execution_count": null,
   "id": "b89a2208-9cd4-4e4a-9b95-c2affda5d40a",
   "metadata": {},
   "outputs": [],
   "source": [
    "def iqr(values):\n",
    "    quartile1, quartile3 = values.quantile([0.25, 0.75])\n",
    "    \n",
    "    return quartile3 - quartile1"
   ]
  },
  {
   "cell_type": "code",
   "execution_count": null,
   "id": "44def13d-3a14-4d8b-8566-236f98ffc669",
   "metadata": {},
   "outputs": [],
   "source": [
    "fulltime_df.groupby(\"home_team\")[[\"home_goals\", \"away_goals\"]].agg([\"median\", iqr])"
   ]
  },
  {
   "cell_type": "markdown",
   "id": "3ca783e3-bd6b-4054-b514-1f45d8ec007e",
   "metadata": {},
   "source": [
    "## Takeaway\n",
    "\n",
    "Data manipulation is at the core of data wranging. Mastering the data manipulation verbs will make it easier for you to explore you data and prepare it for downstream modelling and analysis."
   ]
  }
 ],
 "metadata": {
  "kernelspec": {
   "display_name": "Python 3 (ipykernel)",
   "language": "python",
   "name": "python3"
  },
  "language_info": {
   "codemirror_mode": {
    "name": "ipython",
    "version": 3
   },
   "file_extension": ".py",
   "mimetype": "text/x-python",
   "name": "python",
   "nbconvert_exporter": "python",
   "pygments_lexer": "ipython3",
   "version": "3.9.6"
  }
 },
 "nbformat": 4,
 "nbformat_minor": 5
}
