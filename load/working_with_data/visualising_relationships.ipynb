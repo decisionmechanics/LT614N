{
 "cells": [
  {
   "cell_type": "markdown",
   "id": "36d8213a-15e7-4cf1-a45c-2cbda24e420b",
   "metadata": {},
   "source": [
    "# Visualising relationships"
   ]
  },
  {
   "cell_type": "code",
   "execution_count": null,
   "id": "9f17e68c-f20e-48ac-8d17-67ec391d90d2",
   "metadata": {},
   "outputs": [],
   "source": [
    "import matplotlib.pyplot as plt\n",
    "import numpy as np\n",
    "import pandas as pd\n",
    "import plotly as py\n",
    "import plotly.graph_objects as go\n",
    "from plotly.offline import init_notebook_mode\n",
    "import seaborn as sns"
   ]
  },
  {
   "cell_type": "markdown",
   "id": "dd550063-2fb0-490d-81ad-91cddf149609",
   "metadata": {
    "tags": []
   },
   "source": [
    "Load `customer_churn.csv` into a Pandas data frame (`df`)."
   ]
  },
  {
   "cell_type": "code",
   "execution_count": null,
   "id": "e3731b4c-eb1b-4286-a5df-9f9835afe8cc",
   "metadata": {},
   "outputs": [],
   "source": [
    "df = pd.read_csv(\"customer_churn.csv\")\n",
    "df.drop(df.columns[0], axis=1, inplace=True)"
   ]
  },
  {
   "cell_type": "markdown",
   "id": "73b8748a-2a87-4729-919e-c96bc7b4f850",
   "metadata": {},
   "source": [
    "View the contents of the `df` data frame."
   ]
  },
  {
   "cell_type": "code",
   "execution_count": null,
   "id": "8e686a57-912d-447d-8d76-1b1bfc40f0d3",
   "metadata": {},
   "outputs": [],
   "source": [
    "df"
   ]
  },
  {
   "cell_type": "markdown",
   "id": "7e436164-5340-4ef6-871b-934a0d6c9798",
   "metadata": {},
   "source": [
    "There are many columns, so they've been truncated. List the names of all the columns in `df`."
   ]
  },
  {
   "cell_type": "code",
   "execution_count": null,
   "id": "3c581ee5-bf5c-4bd4-9090-ab072e5e0a27",
   "metadata": {},
   "outputs": [],
   "source": [
    "list(df.columns)"
   ]
  },
  {
   "cell_type": "markdown",
   "id": "41ef8f59-3a0a-4a7c-a2c1-1a18258f1582",
   "metadata": {},
   "source": [
    "## Visualising distributions"
   ]
  },
  {
   "cell_type": "markdown",
   "id": "acfe272d-5220-46a4-83df-fcfb5fa2461e",
   "metadata": {},
   "source": [
    "A **histogram** can be used to visualise the **distribution** of ages."
   ]
  },
  {
   "cell_type": "markdown",
   "id": "e86e7c02-81d5-4329-af67-fb2a3bafb7e2",
   "metadata": {},
   "source": [
    "Create a histogram of the number of voicemail messages customers receive (`number_vmail_messages`) from `df`. Use 30 bins."
   ]
  },
  {
   "cell_type": "code",
   "execution_count": null,
   "id": "9962ead9-a24d-41a7-b588-84d0c861e31d",
   "metadata": {},
   "outputs": [],
   "source": [
    "sns.histplot(data=df, x=\"number_vmail_messages\", bins=30)"
   ]
  },
  {
   "cell_type": "markdown",
   "id": "f5bdb407-7a8f-4e38-878d-fe7a80a68484",
   "metadata": {},
   "source": [
    "Most customers receive none."
   ]
  },
  {
   "cell_type": "markdown",
   "id": "a11f86f9-aece-4988-81e1-6e9f70504ce7",
   "metadata": {},
   "source": [
    "## Visualising correlations"
   ]
  },
  {
   "cell_type": "markdown",
   "id": "0b046a04-4dbe-4ecc-984d-1fcc41b72f1b",
   "metadata": {},
   "source": [
    "A **scatterplot** can be used to visualise the **correlation** between number of calls and time spent on calls."
   ]
  },
  {
   "cell_type": "markdown",
   "id": "9bd2c8f9-4ed7-405b-844c-eb67af291549",
   "metadata": {},
   "source": [
    "Create a scatterplot of `total_day_calls` against `total_day_minutes` from `df`."
   ]
  },
  {
   "cell_type": "code",
   "execution_count": null,
   "id": "f9eb7e98-4072-4477-8952-b5550e052049",
   "metadata": {},
   "outputs": [],
   "source": [
    "sns.scatterplot(data=df, x=\"total_day_calls\", y=\"total_day_minutes\")"
   ]
  },
  {
   "cell_type": "markdown",
   "id": "92da1d2c-2bb8-45fc-9696-2ea57b7ff1ca",
   "metadata": {},
   "source": [
    "There's no evidence of a relationship between number and length of calls."
   ]
  },
  {
   "cell_type": "markdown",
   "id": "4d6efa11-4f7a-43fa-a45c-f7d9330c25f5",
   "metadata": {},
   "source": [
    "## Visualising changes over time"
   ]
  },
  {
   "cell_type": "markdown",
   "id": "6e825f65-f802-4d22-b708-9d12dd2bfa45",
   "metadata": {},
   "source": [
    "The customer churn data date doesn't have any data information, so going to visualise how China's GDP has changed over the past few decades.\n",
    "\n",
    "Load `gdp_by_country_by_year.csv` into a Pandas data frame (`gdp_df`)."
   ]
  },
  {
   "cell_type": "code",
   "execution_count": null,
   "id": "47ccaab2-b52b-4231-b89f-2580f257aca4",
   "metadata": {},
   "outputs": [],
   "source": [
    "gdp_df = pd.read_csv(\"gdp_by_country_by_year.csv\")"
   ]
  },
  {
   "cell_type": "markdown",
   "id": "a0c71b3e-218d-452e-9f4c-20a6ab0eb254",
   "metadata": {},
   "source": [
    "View the contents of the `gdp_df` data frame."
   ]
  },
  {
   "cell_type": "code",
   "execution_count": null,
   "id": "e91e4d5e-f039-4380-b8a0-3b4d994838f4",
   "metadata": {},
   "outputs": [],
   "source": [
    "gdp_df"
   ]
  },
  {
   "cell_type": "markdown",
   "id": "db4da93d-5319-48f6-b7d3-cb5bef3fd557",
   "metadata": {},
   "source": [
    "Transform `Year` to a date-time index and set it to be the index of `gdp_df`."
   ]
  },
  {
   "cell_type": "code",
   "execution_count": null,
   "id": "8efe39a9-c2de-4b07-91ef-f2c3586a97f4",
   "metadata": {},
   "outputs": [],
   "source": [
    "gdp_df.index = pd.to_datetime(gdp_df[\"Year\"], format='%Y')"
   ]
  },
  {
   "cell_type": "markdown",
   "id": "ef9587cc-957d-4dd5-9b2c-3e33eb17f705",
   "metadata": {},
   "source": [
    "Extract China's GDP data into a `china_gdp_df` data frame."
   ]
  },
  {
   "cell_type": "code",
   "execution_count": null,
   "id": "a1f9ec4c-e959-49d1-b80e-b6ed6d1bd53d",
   "metadata": {},
   "outputs": [],
   "source": [
    "china_gdp_df = gdp_df[gdp_df[\"Country Code\"] == \"CHN\"]"
   ]
  },
  {
   "cell_type": "markdown",
   "id": "24b62727-c797-4c8d-a5f0-f3ef8799853f",
   "metadata": {},
   "source": [
    "View the contents of the `china_gdp_df` data frame."
   ]
  },
  {
   "cell_type": "code",
   "execution_count": null,
   "id": "67df5130-2bb2-4c34-9da2-521b55fb395d",
   "metadata": {},
   "outputs": [],
   "source": [
    "china_gdp_df"
   ]
  },
  {
   "cell_type": "markdown",
   "id": "242e88a6-5e91-4882-a866-6fbc0f86091a",
   "metadata": {},
   "source": [
    "Create a line plot to visualise total revenue per quarter as a time series."
   ]
  },
  {
   "cell_type": "code",
   "execution_count": null,
   "id": "2074791f-a52d-43e8-be31-1ab355952525",
   "metadata": {},
   "outputs": [],
   "source": [
    "sns.lineplot(data=china_gdp_df, x=china_gdp_df.index, y=\"Value\")"
   ]
  },
  {
   "cell_type": "markdown",
   "id": "936d4ed7-f9d5-497a-ae7e-d873abd043a5",
   "metadata": {},
   "source": [
    "## Visualising rankings"
   ]
  },
  {
   "cell_type": "markdown",
   "id": "3896949a-d242-4f88-b2c8-8c3a7feacfce",
   "metadata": {},
   "source": [
    "Rankings can be visualised using a standard bar plot. In ranking, the focus is on the ordering. A simple table can also be used to visualise a ranking (e.g. football league tables).\n",
    "\n",
    "We will rank states based on the average number of calls each of their citizens makes during the day."
   ]
  },
  {
   "cell_type": "markdown",
   "id": "dffc1804-a560-41e3-9f64-822a77f3ca38",
   "metadata": {},
   "source": [
    "Average (mean) `total_day_calls` total for each state and store the resulting data frame in `state_df`."
   ]
  },
  {
   "cell_type": "code",
   "execution_count": null,
   "id": "cca3bbc7-0299-4a86-b806-4074e6821e4d",
   "metadata": {},
   "outputs": [],
   "source": [
    "state_df = df.groupby(\"state\", as_index = False).mean()"
   ]
  },
  {
   "cell_type": "markdown",
   "id": "f2969b8b-c2fb-4990-9a11-ba4fc77041a3",
   "metadata": {},
   "source": [
    "View the contents of `state_df`."
   ]
  },
  {
   "cell_type": "code",
   "execution_count": null,
   "id": "5c98a460-cd77-40e4-bd7d-52bb0878f741",
   "metadata": {},
   "outputs": [],
   "source": [
    "state_df"
   ]
  },
  {
   "cell_type": "markdown",
   "id": "66703b0c-5efc-4554-b9be-fa0312da48f6",
   "metadata": {},
   "source": [
    "Sort the data frame in descending order of `total_day_calls`."
   ]
  },
  {
   "cell_type": "code",
   "execution_count": null,
   "id": "72ca3aa6-6d1e-48db-9c06-3fd627d4aa8e",
   "metadata": {},
   "outputs": [],
   "source": [
    "state_df = state_df.sort_values(\"total_day_calls\", ascending = False)"
   ]
  },
  {
   "cell_type": "markdown",
   "id": "e2294c38-3009-4c16-999e-36ef11d27008",
   "metadata": {},
   "source": [
    "View the contents of `state_df`."
   ]
  },
  {
   "cell_type": "code",
   "execution_count": null,
   "id": "d96a37c1-c2aa-4ce3-92c8-ec06252baba6",
   "metadata": {},
   "outputs": [],
   "source": [
    "state_df"
   ]
  },
  {
   "cell_type": "markdown",
   "id": "94c1e5ce-cf53-4373-9a39-0611ce17421d",
   "metadata": {},
   "source": [
    "Create a bar plot of `total_day_calls` for each `state` (using `state_df`). It's often a good idea to flip bar charts with categorical labels so the bars are horizontal. Makes it easier to read the labels.\n",
    "\n",
    "Restrict the chart to the top 10 states."
   ]
  },
  {
   "cell_type": "code",
   "execution_count": null,
   "id": "ed010f0b-14f9-4ec6-83a6-a054bcf8b399",
   "metadata": {},
   "outputs": [],
   "source": [
    "sns.barplot(data=state_df.iloc[:10,:], x=\"total_day_calls\", y=\"state\", orient=\"h\", color=\"gray\")"
   ]
  },
  {
   "cell_type": "markdown",
   "id": "19b6312b-46d8-45d8-be45-5b9dde5cbf98",
   "metadata": {},
   "source": [
    "Show a similar chart for the states with the _least_ daytime usage."
   ]
  },
  {
   "cell_type": "code",
   "execution_count": null,
   "id": "80b0daef-7d05-4de5-a14d-11d81df31189",
   "metadata": {},
   "outputs": [],
   "source": [
    "sns.barplot(data=state_df.iloc[-10:,:], x=\"total_day_calls\", y=\"state\", orient=\"h\", color=\"gray\")"
   ]
  },
  {
   "cell_type": "markdown",
   "id": "6064d1e2-c552-4470-a2f1-7ecc1d165394",
   "metadata": {},
   "source": [
    "## Visualising parts-to-wholes"
   ]
  },
  {
   "cell_type": "markdown",
   "id": "14f61a61-2477-49c5-a33e-39bb52156e78",
   "metadata": {},
   "source": [
    "Sometimes we wish to emphasise how sub-parts compare to the whole---rather then to each other. How much of the pie am I getting, rather than did I get a bigger slice than everyone else.\n",
    "\n",
    "Pie charts have a bad reputation within the data visualisation community. They are easy to abuse. However, if you have 2-5 reasonably-sized categories, and want to emphasise the whole, they can be effective.\n",
    "\n",
    "We'll use a pie chart to visualise the proportion of customers who have a voicemail plan."
   ]
  },
  {
   "cell_type": "markdown",
   "id": "5f095120-6a86-4aef-b12d-fd3e3b856a12",
   "metadata": {},
   "source": [
    "Create a `voice_mail_plan` frequency table from `df` and store it in `voicemail_frequency_df`."
   ]
  },
  {
   "cell_type": "code",
   "execution_count": null,
   "id": "4c7d1bb0-7389-41dc-a10d-2cf802e81347",
   "metadata": {},
   "outputs": [],
   "source": [
    "voicemail_frequency_df = df[\"voice_mail_plan\"].value_counts()"
   ]
  },
  {
   "cell_type": "markdown",
   "id": "0090a367-ea89-4286-8757-239b8d54564e",
   "metadata": {},
   "source": [
    "View the contents of `voicemail_frequency_df`."
   ]
  },
  {
   "cell_type": "code",
   "execution_count": null,
   "id": "702597c9-af20-4ebd-a934-f5948b9700c7",
   "metadata": {},
   "outputs": [],
   "source": [
    "voicemail_frequency_df"
   ]
  },
  {
   "cell_type": "markdown",
   "id": "4c50ef95-e051-4f02-86fc-326919ecef6e",
   "metadata": {},
   "source": [
    "Create a pie chart from the frequencies to show how they contribute to the overall customer base."
   ]
  },
  {
   "cell_type": "code",
   "execution_count": null,
   "id": "665037f1-16ee-44bc-840e-7bf5d0ba550d",
   "metadata": {},
   "outputs": [],
   "source": [
    "voicemail_frequency_df.plot.pie()"
   ]
  },
  {
   "cell_type": "markdown",
   "id": "e4fea2d6-dccd-4258-9953-fe9184cb4a6a",
   "metadata": {},
   "source": [
    "## Visualising deviations"
   ]
  },
  {
   "cell_type": "markdown",
   "id": "26c3613f-d4ff-425d-82e0-d45b71dabae7",
   "metadata": {},
   "source": [
    "It's occassionally useful to visualise deviations from a fixed point (e.g. currency fluctuations relative to US $).\n",
    "\n",
    "In this example, we are going to see how the total revenue from different consumer _value_ segements deviates from the reference segment of \"Youth\"."
   ]
  },
  {
   "cell_type": "markdown",
   "id": "e7c5a41e-1699-4b86-ace9-2fe3f55e2ade",
   "metadata": {},
   "source": [
    "Prepare the data as follows.\n",
    "\n",
    "1. Sum `df` by `consumer_value_type` and store result in `customer_value_type_df`.\n",
    "2. Calculate `total_revenue_diff_youth` by substracting the total revenue score for the youth value segment from the other segment revenues.\n",
    "3. Remove the reference (\"Youth\") value segment.\n",
    "4. Sort `total_revenue_diff_youth` by `total_revenue_diff_youth`"
   ]
  },
  {
   "cell_type": "code",
   "execution_count": null,
   "id": "88fc80ec-b518-4ee2-8d61-e4944b9a69da",
   "metadata": {},
   "outputs": [],
   "source": [
    "dc_df = state_df.copy().set_index(\"state\")\n",
    "dc_df[\"total_day_calls_diff_dc\"] = dc_df[\"total_day_calls\"] - dc_df[\"total_day_calls\"][\"DC\"]\n",
    "#dc_df = customer_value_type_df[customer_value_type_df.index != \"Youth\"]\n",
    "dc_df.sort_values(\"total_day_calls_diff_dc\", inplace=True)"
   ]
  },
  {
   "cell_type": "markdown",
   "id": "f20c3f84-cd78-4a7c-804a-92977f71c56c",
   "metadata": {},
   "source": [
    "View the contents of `dc_df`."
   ]
  },
  {
   "cell_type": "code",
   "execution_count": null,
   "id": "2a7ceb20-da8a-477a-b7b5-58b3e7d7aef1",
   "metadata": {},
   "outputs": [],
   "source": [
    "dc_df"
   ]
  },
  {
   "cell_type": "markdown",
   "id": "42834b48-3bf8-4989-b50d-ac94f3332d9c",
   "metadata": {},
   "source": [
    "Create a horizontal bar plot from `customer_value_type_df` that shows `total_revenue_diff_youth` for each `consumer_value_type`."
   ]
  },
  {
   "cell_type": "code",
   "execution_count": null,
   "id": "66aec732-9edb-4f12-b126-e75593aa291b",
   "metadata": {},
   "outputs": [],
   "source": [
    "plt.figure(figsize=(12,12))\n",
    "sns.barplot(data=dc_df, x=\"total_day_calls_diff_dc\", y=dc_df.index, orient=\"h\", color=\"gray\")"
   ]
  },
  {
   "cell_type": "markdown",
   "id": "fc217717-493f-4a19-9fbf-1b22cc966f44",
   "metadata": {},
   "source": [
    "## Visualising magnitudes"
   ]
  },
  {
   "cell_type": "markdown",
   "id": "19ba9914-905f-47d3-953c-86f84a8c7d45",
   "metadata": {},
   "source": [
    "Visualising magntitudes is one of the most common uses for charts. We've seen how ranking, part-to-whole and deviation visualisations all make use of magnitudes---but place the emphasis on a different aspect of the data. It can be a subtle distinction, but it's important to know the characteristic of your data that you are trying to showcase with your visualisation. Good data visualisation requires mastery of nuances.\n",
    "\n",
    "We'll use a bar chart to compare the average time spent on calls, during the day, in each state."
   ]
  },
  {
   "cell_type": "markdown",
   "id": "95e73f4b-1346-4b5d-89b9-9c3d9f29578d",
   "metadata": {},
   "source": [
    "Create a horizontal bar plot from `state_df` that shows the magnitude of `total_day_minutes` for each `state`.\n",
    "\n",
    "Restrict the chart to the first 10 states, ordered alphabetically by state code."
   ]
  },
  {
   "cell_type": "code",
   "execution_count": null,
   "id": "043c892d-0612-4c01-8841-604aecc5ad40",
   "metadata": {},
   "outputs": [],
   "source": [
    "sns.barplot(data=state_df.sort_values(\"state\").iloc[:10,:], x=\"total_day_minutes\", y=\"state\", orient=\"h\", color=\"gray\")"
   ]
  },
  {
   "cell_type": "markdown",
   "id": "ed5dae81-46f2-45aa-a8e2-66b82d4b81fb",
   "metadata": {
    "tags": []
   },
   "source": [
    "## Visualising spatial data\n",
    "\n",
    "Visualising geographic data is a specialist subfield of visualisation.\n",
    "\n",
    "As there's no geographic data in our customer churn data, we'll create a choropleth (colour polygon) map that shows how the the global happiness survey index varies across countries."
   ]
  },
  {
   "cell_type": "markdown",
   "id": "f039daf6-5fee-4f81-9a19-dcc077f86684",
   "metadata": {},
   "source": [
    "Load `world_happiness_2019.csv` into a Pandas data frame (`happiness_df`)."
   ]
  },
  {
   "cell_type": "code",
   "execution_count": null,
   "id": "85955583-78f7-4f2d-acf2-b36679226b5f",
   "metadata": {},
   "outputs": [],
   "source": [
    "happiness_df = pd.read_csv(\"world_happiness_2019.csv\")"
   ]
  },
  {
   "cell_type": "markdown",
   "id": "a4b02782-50bd-409b-ac61-b2f5f0d21b7d",
   "metadata": {},
   "source": [
    "View the contents of `happiness_df`."
   ]
  },
  {
   "cell_type": "code",
   "execution_count": null,
   "id": "1cdcd535-978d-4625-988c-25f44f41c7f2",
   "metadata": {},
   "outputs": [],
   "source": [
    "happiness_df"
   ]
  },
  {
   "cell_type": "markdown",
   "id": "065ca090-fe38-4900-ac94-70271a841896",
   "metadata": {},
   "source": [
    "Note that the countries are listed in descending order of happiness. Finns are happiest, while the South Sudanese appear to be the least happy."
   ]
  },
  {
   "cell_type": "markdown",
   "id": "7e45057e-a083-4831-ba8c-8f40ef3e81a4",
   "metadata": {},
   "source": [
    "Use Plotly to create a world choropleth from `happiness_df` the using `Country or region` and the location and `Score` as the data value (`z`)."
   ]
  },
  {
   "cell_type": "code",
   "execution_count": null,
   "id": "2e829fee-7083-461c-94c6-a2657a466071",
   "metadata": {},
   "outputs": [],
   "source": [
    "data = {\n",
    "    \"type\": 'choropleth',\n",
    "    \"locations\": happiness_df['Country or region'],\n",
    "    \"locationmode\": 'country names',\n",
    "    \"colorscale\": 'viridis',\n",
    "    \"z\": happiness_df['Score']\n",
    "}\n",
    "\n",
    "init_notebook_mode(connected=True)\n",
    "\n",
    "map = go.Figure(data=[data])\n",
    "\n",
    "map.update_layout(\n",
    "    autosize=False,\n",
    "    width=800,\n",
    ")\n",
    "\n",
    "map.show()"
   ]
  },
  {
   "cell_type": "markdown",
   "id": "03494a33-7d23-4431-8abc-ed330ed997dd",
   "metadata": {},
   "source": [
    "Hover over a country to see its happiness index. Test your geographic knowledge by locating Finland and South Sudan."
   ]
  },
  {
   "cell_type": "markdown",
   "id": "b0ef276a-a1d9-4038-8832-6ae3dace0820",
   "metadata": {},
   "source": [
    "## Visualising flow"
   ]
  },
  {
   "cell_type": "markdown",
   "id": "4fa98a0b-b1b2-4414-9867-d433f0ab1d16",
   "metadata": {},
   "source": [
    "Flow considers the volume or strength of movement between stages (e.g. locations, tasks, periods). It's not a common type of visualisation, but can be powerful.\n",
    "\n",
    "We'll move away from our customer churn data, as it doesn't have any simple flow examples we can visualise. \n",
    "\n",
    "In its place, we'll look at data on Scottish independence. Specifically, we'll visualise how Brexit has impacted Scots' views on independence."
   ]
  },
  {
   "cell_type": "markdown",
   "id": "4568c19f-572e-41ea-b33c-11e28c20958b",
   "metadata": {},
   "source": [
    "Load `scottish_votes.csv` into a Pandas data frame (`scottish_votes_df`)."
   ]
  },
  {
   "cell_type": "code",
   "execution_count": null,
   "id": "6d0b9861-ae18-4408-9f40-64855165e632",
   "metadata": {},
   "outputs": [],
   "source": [
    "scottish_votes_df = pd.read_csv(\"scottish_votes.csv\")"
   ]
  },
  {
   "cell_type": "markdown",
   "id": "df0deaef-04bf-482e-aed6-728406460dfd",
   "metadata": {},
   "source": [
    "View the contents of `scottish_votes_df`."
   ]
  },
  {
   "cell_type": "code",
   "execution_count": null,
   "id": "bb862bae-4851-437b-90c5-07daa39441ad",
   "metadata": {},
   "outputs": [],
   "source": [
    "scottish_votes_df"
   ]
  },
  {
   "cell_type": "markdown",
   "id": "d1fc3737-bfd8-4a24-a9f4-09b07a14ed30",
   "metadata": {},
   "source": [
    "Don't spend a lot of time pondering the file format. However, you will see that it contains data on how people voted in IndyRef1 and Brexit (the initial stage) and voting intentions for IndyRef2 (the final stage).\n",
    "\n",
    "This data has been formatted for use in a **Sankey** diagram."
   ]
  },
  {
   "cell_type": "markdown",
   "id": "d6d8d9f8-1347-4ae0-90d4-e4736977c0cb",
   "metadata": {},
   "source": [
    "Create the `source`, `target` and `value` data for the Sankey link."
   ]
  },
  {
   "cell_type": "code",
   "execution_count": null,
   "id": "5c704d1c-c711-4b45-b0bd-953bebcf3cd6",
   "metadata": {},
   "outputs": [],
   "source": [
    "link = {\n",
    "    \"source\": scottish_votes_df['Source'].dropna(axis=0, how='any'),\n",
    "    \"target\": scottish_votes_df['Target'].dropna(axis=0, how='any'),\n",
    "    \"value\": scottish_votes_df['Value'].dropna(axis=0, how='any'),\n",
    "    \"color\": scottish_votes_df['Link Color'].dropna(axis=0, how='any'),\n",
    "}\n",
    "   \n",
    "node = {\n",
    "    \"pad\": 10, \n",
    "    \"line\": {\n",
    "        \"color\": \"black\", \n",
    "        \"width\": 0\n",
    "    }, \n",
    "    \"color\": [\"#F27420\", \"#4994CE\", \"#FABC13\", \"#7FC241\", \"#D3D3D3\", \"#8A5988\", \"#449E9E\", \"#D3D3D3\"], \n",
    "    \"label\": [\"Remain+No – 28\", \"Leave+No – 16\", \"Remain+Yes – 21\", \"Leave+Yes – 14\", \"Didn’t vote in at least one referendum – 21\", \"46 – No\", \"39 – Yes\", \"14 – Don’t know / would not vote\"], \n",
    "    \"thickness\": 30\n",
    "}"
   ]
  },
  {
   "cell_type": "markdown",
   "id": "46ec02fb-e7db-47c2-9244-54af3a59bb92",
   "metadata": {},
   "source": [
    "Use Plotly to display the Sankey diagram."
   ]
  },
  {
   "cell_type": "code",
   "execution_count": null,
   "id": "97cc1c12-c504-4ad3-80e8-19355e2260be",
   "metadata": {},
   "outputs": [],
   "source": [
    "init_notebook_mode(connected=True)\n",
    "\n",
    "data = go.Sankey(link = link, node=node)\n",
    "    \n",
    "fig = go.Figure(data)\n",
    "\n",
    "fig.update_layout(\n",
    "    autosize=False,\n",
    "    width=600,\n",
    "    height=400,\n",
    ")\n",
    "\n",
    "fig.show()"
   ]
  },
  {
   "cell_type": "markdown",
   "id": "1d7ae1cc-00c0-49d8-8e41-e50a3f738ed7",
   "metadata": {},
   "source": [
    "Note how the Europhile Unionists who have shifted to favouring independence are balanced by some Leave Nationalists deciding to remain in the UK.\n",
    "\n",
    "There is also an additional swing to \"No\" in IndyRef2 from earlier Europhile Nationalists---possibly as a result of the challenges that would be presented by a hard border between Scotland and England.\n",
    "\n",
    "The diagram is from an [article](https://www.theguardian.com/commentisfree/2017/jan/27/shift-scottish-independence-yougov-nicola-sturgeon-balancing-act) in the Guardian that has a more in-depth analysis that is warranted here."
   ]
  },
  {
   "cell_type": "markdown",
   "id": "ce751b41-1962-465e-ab39-940c8e0a3170",
   "metadata": {},
   "source": [
    "## Takeway\n",
    "\n",
    "There are many different chart types available---and more are created every year. But it's important to focus on the relationship you wish to study or explain.\n",
    "\n",
    "Your visualisations should emerge from your requirements. Think carefully about your data before you throw it into a charting application."
   ]
  }
 ],
 "metadata": {
  "kernelspec": {
   "display_name": "Python 3 (ipykernel)",
   "language": "python",
   "name": "python3"
  },
  "language_info": {
   "codemirror_mode": {
    "name": "ipython",
    "version": 3
   },
   "file_extension": ".py",
   "mimetype": "text/x-python",
   "name": "python",
   "nbconvert_exporter": "python",
   "pygments_lexer": "ipython3",
   "version": "3.9.6"
  }
 },
 "nbformat": 4,
 "nbformat_minor": 5
}
