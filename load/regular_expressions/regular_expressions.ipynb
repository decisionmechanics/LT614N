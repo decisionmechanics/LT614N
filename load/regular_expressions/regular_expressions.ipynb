{
 "cells": [
  {
   "cell_type": "markdown",
   "id": "e3800445-e233-4733-874a-65f40180e55f",
   "metadata": {},
   "source": [
    "# Regular expressions"
   ]
  },
  {
   "cell_type": "markdown",
   "id": "75bc0e59-6927-4766-8dee-f62228f09ffe",
   "metadata": {},
   "source": [
    "Import the regular expressions module."
   ]
  },
  {
   "cell_type": "code",
   "execution_count": null,
   "id": "5bfdf9fb-e147-4372-9076-e762cac7fa25",
   "metadata": {},
   "outputs": [],
   "source": [
    "import re"
   ]
  },
  {
   "cell_type": "markdown",
   "id": "81523012-8c12-4e44-9a12-bfae01b9a2ba",
   "metadata": {},
   "source": [
    "Take a quote from Bram Stoker's \"Dracula\"."
   ]
  },
  {
   "cell_type": "code",
   "execution_count": null,
   "id": "8135f148-ce96-40c9-9e6f-cfd438b08285",
   "metadata": {},
   "outputs": [],
   "source": [
    "text = \"\"\"Oh, the terrible struggle that I have had against sleep so often of late; the pain of the sleeplessness, or the pain of the fear of sleep, and with such unknown horror as it has for me!\n",
    "How blessed are some people, whose lives have no fears, no dreads; to whom sleep is a blessing that comes nightly, and brings nothing but sweet dreams.\"\"\""
   ]
  },
  {
   "cell_type": "markdown",
   "id": "49b68c6d-0222-4ad7-a16f-ff5a58dc30f6",
   "metadata": {},
   "source": [
    "## Simple matches"
   ]
  },
  {
   "cell_type": "markdown",
   "id": "222fc0f4-9116-46c7-a0dd-f01ec80e161d",
   "metadata": {},
   "source": [
    "Search for the word \"children\" in the text."
   ]
  },
  {
   "cell_type": "code",
   "execution_count": null,
   "id": "220ad0c0-e188-4fc4-b7e2-8a4554453ca9",
   "metadata": {},
   "outputs": [],
   "source": [
    "re.search(\"sleep\", text)"
   ]
  },
  {
   "cell_type": "markdown",
   "id": "8c45c654-7234-4d74-965c-3a2411e83767",
   "metadata": {},
   "source": [
    "Check the match positions (`span`) are correct by slicing `text`."
   ]
  },
  {
   "cell_type": "code",
   "execution_count": null,
   "id": "31259464-45ec-4495-abb5-7f905751b090",
   "metadata": {},
   "outputs": [],
   "source": [
    "text[50:55]"
   ]
  },
  {
   "cell_type": "markdown",
   "id": "b2518013-8465-49b5-baa4-c6872dc36139",
   "metadata": {},
   "source": [
    "This is the first occurrence of \"sleep\" in the passage."
   ]
  },
  {
   "cell_type": "markdown",
   "id": "71fc54ff-daa8-4f14-b3ea-46b4819b55e1",
   "metadata": {},
   "source": [
    "## Using metacharacters"
   ]
  },
  {
   "cell_type": "markdown",
   "id": "e99954cc-0fdc-4ddd-848e-b6984deddc40",
   "metadata": {},
   "source": [
    "Find the first word that begins with \"s\". That's \"s\" at the start of a word, followed by zero or more word characters."
   ]
  },
  {
   "cell_type": "code",
   "execution_count": null,
   "id": "c0db914f-5ea5-4fe1-babd-a124900ef9bf",
   "metadata": {},
   "outputs": [],
   "source": [
    "re.search(r\"\\bs\\w*\", text)"
   ]
  },
  {
   "cell_type": "markdown",
   "id": "036aca5a-aa1f-4cb9-b029-1d973506b5ba",
   "metadata": {},
   "source": [
    "What about _all_ the words that start with \"s\"?"
   ]
  },
  {
   "cell_type": "code",
   "execution_count": null,
   "id": "deed5232-c810-447d-97e9-428fbfd2f122",
   "metadata": {},
   "outputs": [],
   "source": [
    "re.findall(r\"\\bs\\w*\", text)"
   ]
  },
  {
   "cell_type": "markdown",
   "id": "626144ff-5903-4e87-bf11-00cb90c744c2",
   "metadata": {},
   "source": [
    "Find _unique_ words that start with \"s\"."
   ]
  },
  {
   "cell_type": "code",
   "execution_count": null,
   "id": "72460f6c-4a51-449c-9fea-c3daef8be353",
   "metadata": {},
   "outputs": [],
   "source": [
    "sorted(set(re.findall(r\"\\bs\\w*\", text)))"
   ]
  },
  {
   "cell_type": "markdown",
   "id": "70eff607-0268-478d-9481-5f5538f971d9",
   "metadata": {},
   "source": [
    "Find postcodes in text."
   ]
  },
  {
   "cell_type": "code",
   "execution_count": null,
   "id": "10e9f25a-18b6-4eab-8ef8-6e993fbfd432",
   "metadata": {},
   "outputs": [],
   "source": [
    "postcode_text = \"Downing Street, SW1A 2AA; Buckingham Palace SW1A 1AA; Old Trafford, M16 0RA; Aintree, L9 5AS; Shakespeare's birthplace, CV37 6QW; Wembley Stadium, HA9 0WS\"\n",
    "re.findall(r\"[A-Z]{1,2}[0-9]{1,2}[A-Z]? \\d[A-Z]{2}\", postcode_text)"
   ]
  },
  {
   "cell_type": "markdown",
   "id": "4bf7dbf8-636c-48ce-be6f-fc128f3e45b1",
   "metadata": {},
   "source": [
    "Validate a phone number."
   ]
  },
  {
   "cell_type": "code",
   "execution_count": null,
   "id": "babedaf4-ea5d-4e6f-8933-33af3febd11e",
   "metadata": {},
   "outputs": [],
   "source": [
    "print(re.match(r\"\\d{3}-\\d{3}-\\d{4}\", \"555-555-5555\") is not None)\n",
    "print(re.match(r\"\\d{3}-\\d{3}-\\d{4}\", \"555-555-555\") is not None)"
   ]
  },
  {
   "cell_type": "markdown",
   "id": "53e5a8d5-5a9b-4b58-94ab-8ef45716021a",
   "metadata": {},
   "source": [
    "Extract a day of the month"
   ]
  },
  {
   "cell_type": "code",
   "execution_count": null,
   "id": "1e7a14a5-c862-4c9e-9423-2faf47420f21",
   "metadata": {},
   "outputs": [],
   "source": [
    "regex = re.compile(r\"(\\d{1,2})(?=(st|nd|rd|th))\")\n",
    "print(regex.search(\"2nd\"))\n",
    "print(regex.search(\"15th\"))\n",
    "print(regex.search(\"31st\"))"
   ]
  },
  {
   "cell_type": "markdown",
   "id": "0f712678-f752-4581-85e1-9ea89c5e293f",
   "metadata": {},
   "source": [
    "## Escaping meta characters"
   ]
  },
  {
   "cell_type": "markdown",
   "id": "d6dd7f2f-840f-446f-a06f-93ffaf2d5512",
   "metadata": {},
   "source": [
    "Markdown uses two stars (\\*\\*) to embolden text. Find the bold phrases in a piece of markdown text."
   ]
  },
  {
   "cell_type": "code",
   "execution_count": null,
   "id": "ecd25b6f-5ee2-41ea-8cfe-8a4b6203ec42",
   "metadata": {},
   "outputs": [],
   "source": [
    "markdown_text = \"Regular expressions are known as **regexes**. Use the **re** module to work with regexes in Python.\"\n",
    "re.findall(r\"\\*{2}([^\\*]+)\\*{2}\", markdown_text)"
   ]
  },
  {
   "cell_type": "markdown",
   "id": "456ab3cf-2674-461e-92bd-57a1a956b43e",
   "metadata": {},
   "source": [
    "We can also use `+?` which is the non-greedy version of `+`."
   ]
  },
  {
   "cell_type": "code",
   "execution_count": null,
   "id": "e2c29436-76b4-4aca-a7c3-a46d846909e6",
   "metadata": {},
   "outputs": [],
   "source": [
    "re.findall(r\"\\*{2}(.+?)\\*{2}\", markdown_text)"
   ]
  },
  {
   "cell_type": "markdown",
   "id": "0bf3317d-9ee8-416b-8c10-a4c105552d06",
   "metadata": {},
   "source": [
    "Regex qualifiers are usually greedy---they will match as much as they can. Non-greedy qualifiers, such as `*?` and `+?` will match as little as they can."
   ]
  },
  {
   "cell_type": "markdown",
   "id": "038f0046-ad73-49c6-bf22-0a6ada5753b9",
   "metadata": {},
   "source": [
    "## Anchors"
   ]
  },
  {
   "cell_type": "markdown",
   "id": "f6c10992-0052-414c-91ba-790f8b81440c",
   "metadata": {},
   "source": [
    "Find the first word in a piece of text."
   ]
  },
  {
   "cell_type": "code",
   "execution_count": null,
   "id": "66fa23b3-ec37-42a7-b4bc-bac578c022a6",
   "metadata": {},
   "outputs": [],
   "source": [
    "re.search(r\"^\\W*\\w+\", text)"
   ]
  },
  {
   "cell_type": "markdown",
   "id": "04e5cb51-72ab-40fb-8020-6072875c1aa7",
   "metadata": {},
   "source": [
    "Find the last word in some text."
   ]
  },
  {
   "cell_type": "code",
   "execution_count": null,
   "id": "4fc57390-f5de-4509-a3b6-70b17e712e70",
   "metadata": {},
   "outputs": [],
   "source": [
    "re.search(r\"\\w+(?=(\\W*$))\", text)"
   ]
  },
  {
   "cell_type": "markdown",
   "id": "9622c733-e2ac-401a-be60-7a3505ea5c6f",
   "metadata": {},
   "source": [
    "## Groups"
   ]
  },
  {
   "cell_type": "markdown",
   "id": "3ef2f3bb-c05c-45d0-9c4b-2321a955b3fd",
   "metadata": {},
   "source": [
    "Deconstruct text by capturing groups."
   ]
  },
  {
   "cell_type": "code",
   "execution_count": null,
   "id": "27693e00-adfc-4a54-a326-c3e0cc1248e5",
   "metadata": {},
   "outputs": [],
   "source": [
    "m = re.search(r\"(\\d{1,2})(?:st|nd|rd|th)? ([A-Za-z]{3,}) (\\d{4})\", \"25th Dec 2021\")\n",
    "m.groups()"
   ]
  },
  {
   "cell_type": "markdown",
   "id": "133dc743-4f19-4150-9fc8-240eeca7928a",
   "metadata": {},
   "source": [
    "When you have lots of groups, it can be helpful to name them."
   ]
  },
  {
   "cell_type": "code",
   "execution_count": null,
   "id": "e50162f6-4c2d-42f1-8e26-6ed8bfd51c88",
   "metadata": {},
   "outputs": [],
   "source": [
    "m = re.search(r\"(?P<date>\\d{1,2})(?:st|nd|rd|th)? (?P<month>[A-Za-z]{3,}) (?P<year>\\d{4})\", \"25th Dec 2021\")\n",
    "{\"date\": m.group(\"date\"), \"month\": m.group(\"month\"), \"year\": m.group(\"year\")}"
   ]
  },
  {
   "cell_type": "markdown",
   "id": "f9093d54-6f37-4ee7-8755-6fa7dc794293",
   "metadata": {
    "tags": []
   },
   "source": [
    "## Backreferences"
   ]
  },
  {
   "cell_type": "markdown",
   "id": "edb034d4-cba9-4645-a6bb-26335684d900",
   "metadata": {},
   "source": [
    "How can we match text that starts and ends with the same word?"
   ]
  },
  {
   "cell_type": "code",
   "execution_count": null,
   "id": "b3d3b345-e144-4099-addd-b54601d753db",
   "metadata": {},
   "outputs": [],
   "source": [
    "count_text = \"one, two, three...three, two, one\"\n",
    "re.search(r\"^(\\w+).*\\1$\", count_text).groups()"
   ]
  },
  {
   "cell_type": "code",
   "execution_count": null,
   "id": "bbb956ef-b5ca-4460-9c74-1e7af6fcb7a4",
   "metadata": {},
   "outputs": [],
   "source": [
    "count_zero_text = \"one, two, three...three, two, one, zero\"\n",
    "print(re.search(r\"^(\\w+).*\\1$\", count_zero_text).groups())\n",
    "print(re.search(r\"^(\\w+\\b).*\\1$\", count_zero_text))"
   ]
  },
  {
   "cell_type": "markdown",
   "id": "eebd8715-fe23-4d05-87f7-3f8baef9c697",
   "metadata": {},
   "source": [
    "## Applying flags"
   ]
  },
  {
   "cell_type": "markdown",
   "id": "3906e14c-925b-4eaa-b023-4b7fa159838a",
   "metadata": {},
   "source": [
    "This fails to match because the month is mixed case."
   ]
  },
  {
   "cell_type": "code",
   "execution_count": null,
   "id": "6bde0bd7-9812-47c8-a2d4-075a49b73514",
   "metadata": {},
   "outputs": [],
   "source": [
    "re.search(r\"\\d{1,2}(?:st|nd|rd|th)? ([A-Z]{3,}) \\d{4}\", \"25th Dec 2021\")"
   ]
  },
  {
   "cell_type": "markdown",
   "id": "41d19ce2-d60c-4caa-bebe-f38eeaaac6ff",
   "metadata": {},
   "source": [
    "We could use `[A-Za-z]`, but if we don't care about case we can say that explicitly."
   ]
  },
  {
   "cell_type": "code",
   "execution_count": null,
   "id": "5ec5340d-50d9-4d78-b904-09983409683f",
   "metadata": {},
   "outputs": [],
   "source": [
    "re.search(r\"\\d{1,2}(?:st|nd|rd|th)? ([A-Z]{3,}) \\d{4}\", \"25th Dec 2021\", re.IGNORECASE)"
   ]
  },
  {
   "cell_type": "markdown",
   "id": "1303e6b4-bb98-4955-b66c-8316b558c795",
   "metadata": {},
   "source": [
    "## Substituting values"
   ]
  },
  {
   "cell_type": "markdown",
   "id": "1bfe5edc-6c38-4709-ad87-f97f4af96e12",
   "metadata": {},
   "source": [
    "It's common to clean up data by removing (replacing with \"\") invalid text/tokens."
   ]
  },
  {
   "cell_type": "code",
   "execution_count": null,
   "id": "87aafb24-f45f-483e-b179-f7cfea5d55bc",
   "metadata": {},
   "outputs": [],
   "source": [
    "only_words_text = re.sub(r\"[^\\w\\s]\", \"\", text)\n",
    "only_words_text"
   ]
  },
  {
   "cell_type": "markdown",
   "id": "c57f2c42-4831-4522-93e4-84976d024076",
   "metadata": {},
   "source": [
    "## Splitting text"
   ]
  },
  {
   "cell_type": "markdown",
   "id": "eb52a4de-fdf1-4384-a193-cb658afcced3",
   "metadata": {},
   "source": [
    "Splitting text into fields is a common problem when working with data (e.g. log file analysis). Regexes allow us to perform splits on complicated, hetrogeneous delimiters."
   ]
  },
  {
   "cell_type": "code",
   "execution_count": null,
   "id": "b49e6e43-c5a0-4291-b033-c5900e7310f2",
   "metadata": {},
   "outputs": [],
   "source": [
    "delimited_text = \"The|  quick, brown   fox; jumps+ over.the. lazy\\ndog\"\n",
    "re.split(r\"\\W+\", delimited_text)"
   ]
  }
 ],
 "metadata": {
  "kernelspec": {
   "display_name": "Python 3 (ipykernel)",
   "language": "python",
   "name": "python3"
  },
  "language_info": {
   "codemirror_mode": {
    "name": "ipython",
    "version": 3
   },
   "file_extension": ".py",
   "mimetype": "text/x-python",
   "name": "python",
   "nbconvert_exporter": "python",
   "pygments_lexer": "ipython3",
   "version": "3.9.6"
  }
 },
 "nbformat": 4,
 "nbformat_minor": 5
}
