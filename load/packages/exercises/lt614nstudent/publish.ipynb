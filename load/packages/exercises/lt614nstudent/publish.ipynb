{
 "cells": [
  {
   "cell_type": "markdown",
   "id": "c43fff54-4e19-4e97-b43e-43a16bdc8280",
   "metadata": {},
   "source": [
    "# Publish a Python package"
   ]
  },
  {
   "cell_type": "markdown",
   "id": "feb950a7-a771-4d61-862c-f379517c229b",
   "metadata": {},
   "source": [
    "Prepare a Python package for publication and publish it.\n",
    "\n",
    "We'll be using a version of our metric to imperial conversion library (in lt614nstudent)."
   ]
  },
  {
   "cell_type": "markdown",
   "id": "d682d5b4-2845-4a21-8a6e-2e4db40f005a",
   "metadata": {},
   "source": [
    "## Prepare the package for publication"
   ]
  },
  {
   "cell_type": "markdown",
   "id": "b1cfadc2-8b79-462c-a13d-812bf3480ce5",
   "metadata": {},
   "source": [
    "We first need to change the name of our package. We can't all publish a package with the same name.\n",
    "\n",
    "Rename the _package_ folder (the one at the same level as setup.py) from `lt614nstudent` to `lt614n<my_name>` (where `<my_name>` is your actual name---without spaces)."
   ]
  },
  {
   "cell_type": "raw",
   "id": "4e8e78ce-b79a-4835-a04b-f4d1d00cb079",
   "metadata": {},
   "source": [
    "mv lt614nstudent lt614n<my_name>"
   ]
  },
  {
   "cell_type": "markdown",
   "id": "5bc2c8ee-248d-4950-9523-93879847e00f",
   "metadata": {},
   "source": [
    "Open the project and review the code and tests. It should all be familiar."
   ]
  },
  {
   "cell_type": "markdown",
   "id": "456c31c9-c92c-44c2-9c23-87fd4899bc42",
   "metadata": {},
   "source": [
    "Run the tests and make sure they pass."
   ]
  },
  {
   "cell_type": "raw",
   "id": "3dc2999e-bde2-440a-884f-1b55c8b20fb1",
   "metadata": {},
   "source": [
    "pytest"
   ]
  },
  {
   "cell_type": "markdown",
   "id": "86cbd364-e009-4d2e-ac92-1c7c617858f3",
   "metadata": {},
   "source": [
    "Edit setup.py and change some of the arguments in the `setup()` call. Specifically:\n",
    "\n",
    "- `name` (to `lt614n<my_name>`)\n",
    "- `author` (to `<my_name>`)\n",
    "- `author_email` (to `<my_email>`)"
   ]
  },
  {
   "cell_type": "markdown",
   "id": "0d5599d1-6945-4745-a2ac-9b1db03bf00b",
   "metadata": {},
   "source": [
    "Change the current version of the package from 0.0.1 to 0.0.2. The version is recorded in two places---setup.py and \\_\\_init\\_\\_.py in the package folder."
   ]
  },
  {
   "cell_type": "raw",
   "id": "e5fda957-4ee6-46ba-b0ed-a688a5b8c134",
   "metadata": {},
   "source": [
    "pip install bumpversion\n",
    "bumpversion --current-version 0.0.1 patch setup.py lt614n<my_name>/__init__.py"
   ]
  },
  {
   "cell_type": "markdown",
   "id": "f451864b-42ce-4db8-b42f-bc547efea67d",
   "metadata": {},
   "source": [
    "## Publish the package to TestPyPI"
   ]
  },
  {
   "cell_type": "markdown",
   "id": "6c2f262b-ad8c-4bad-9dac-4d22258a318b",
   "metadata": {},
   "source": [
    "Build a source distribution and Wheel. We need to install the wheel package."
   ]
  },
  {
   "cell_type": "raw",
   "id": "69aee213-6fbd-44d1-ad4c-b7d629f2c9c8",
   "metadata": {},
   "source": [
    "pip install wheel\n",
    "python setup.py sdist bdist_wheel"
   ]
  },
  {
   "cell_type": "markdown",
   "id": "4cb83669-9f5c-4129-99a7-6ab79b280273",
   "metadata": {},
   "source": [
    "List the files that have been generated in the dist folder. There will be two---the source distribution archive and the Wheel."
   ]
  },
  {
   "cell_type": "raw",
   "id": "7ff1b585-3327-46ea-afbd-347214dc81de",
   "metadata": {},
   "source": [
    "ls -l dist"
   ]
  },
  {
   "cell_type": "markdown",
   "id": "2c247956-f804-4450-9efc-0edc02853a32",
   "metadata": {},
   "source": [
    "Review the contents of the source distribuion."
   ]
  },
  {
   "cell_type": "raw",
   "id": "2a3da8e8-eee0-4d6c-a1a6-93c906b1c8b8",
   "metadata": {},
   "source": [
    "tar tzf dist/lt614n<my_name>-0.0.1.tar.gz"
   ]
  },
  {
   "cell_type": "markdown",
   "id": "16af4b37-6d4d-4817-93d8-8945c89d82e4",
   "metadata": {},
   "source": [
    "Does it contain our distance.py, weight.py and temperature.py modules?"
   ]
  },
  {
   "cell_type": "markdown",
   "id": "61b3d54d-2b46-464a-8f38-407ae72353c3",
   "metadata": {},
   "source": [
    "Check the documentation format is correct."
   ]
  },
  {
   "cell_type": "raw",
   "id": "a77c9737-e063-4a58-bf5d-cfd9b37b5719",
   "metadata": {},
   "source": [
    "pip install twine\n",
    "twine check dist/*"
   ]
  },
  {
   "cell_type": "markdown",
   "id": "f50a4b2a-ec1a-41ee-aab3-8024d07f83c0",
   "metadata": {},
   "source": [
    "You'll need a TestPyPI account to publish your package. Register for one at [https://test.pypi.org/account/register/](https://test.pypi.org/account/register/)"
   ]
  },
  {
   "cell_type": "markdown",
   "id": "45de1f06-9c66-49b5-a577-2eb242558ca1",
   "metadata": {},
   "source": [
    "Upload (publish) your package to TestPyPI. If _Ubuntu_ displays a login dialog, password is `studentpw`."
   ]
  },
  {
   "cell_type": "raw",
   "id": "70d94fc6-1faf-454f-b37e-93754d4147ff",
   "metadata": {},
   "source": [
    "twine upload --repository testpypi dist/*"
   ]
  },
  {
   "cell_type": "markdown",
   "id": "db0697d2-db69-49fd-b955-9acc61bba484",
   "metadata": {},
   "source": [
    "If you get an error about files already existing, then add the `--skip-existing` option (i.e. `twine upload --skip-existing --repository testpypi dist/*`)."
   ]
  },
  {
   "cell_type": "markdown",
   "id": "0bccc9c0-8436-4622-b6e3-79428b81e7a0",
   "metadata": {},
   "source": [
    "Browse to the [TestPyPI home page](https://test.pypi.org/) and look at the new releases. Bask in your minute of fame."
   ]
  },
  {
   "cell_type": "markdown",
   "id": "78fd42db-6211-40a0-9f1b-d72d8eb7dbde",
   "metadata": {},
   "source": [
    "## Install your package from TestPyPI and use it in an app"
   ]
  },
  {
   "cell_type": "markdown",
   "id": "d86372d3-4bb2-455a-a650-836a9336279d",
   "metadata": {},
   "source": [
    "Create a new project and virtualenv."
   ]
  },
  {
   "cell_type": "raw",
   "id": "5c80246c-7698-4f80-ad88-b935971f8d89",
   "metadata": {},
   "source": [
    "deactivate\n",
    "mkdir ~/package_proj\n",
    "cd ~/package_prog\n",
    "python3 -m venv venv\n",
    "source venv/bin/activate\n",
    "touch main.py"
   ]
  },
  {
   "cell_type": "markdown",
   "id": "8df191b3-de93-4e26-9a31-3704d64ceeff",
   "metadata": {},
   "source": [
    "Install your package."
   ]
  },
  {
   "cell_type": "raw",
   "id": "b32433b6-d834-477f-882a-1bc05934c959",
   "metadata": {},
   "source": [
    "pip install --index-url https://test.pypi.org/simple/ lt614n<my_name>"
   ]
  },
  {
   "cell_type": "markdown",
   "id": "2f424642-d17c-4b94-b040-a440012d903f",
   "metadata": {},
   "source": [
    "Create an app in main.py."
   ]
  },
  {
   "cell_type": "raw",
   "id": "f90d2e44-7f5c-499d-802c-c7608ebe20a2",
   "metadata": {},
   "source": [
    "from lt614n<my_name> import distance\n",
    "\n",
    "print(distance.km_to_miles(2.0))"
   ]
  },
  {
   "cell_type": "markdown",
   "id": "4fb14fad-7f28-4560-94f6-149c9cff58f4",
   "metadata": {},
   "source": [
    "Run your app and examine the output."
   ]
  },
  {
   "cell_type": "raw",
   "id": "a46d8084-3cb7-4063-8b23-2d0df4a9179c",
   "metadata": {},
   "source": [
    "python main.py"
   ]
  }
 ],
 "metadata": {
  "kernelspec": {
   "display_name": "Python 3 (ipykernel)",
   "language": "python",
   "name": "python3"
  },
  "language_info": {
   "codemirror_mode": {
    "name": "ipython",
    "version": 3
   },
   "file_extension": ".py",
   "mimetype": "text/x-python",
   "name": "python",
   "nbconvert_exporter": "python",
   "pygments_lexer": "ipython3",
   "version": "3.9.6"
  }
 },
 "nbformat": 4,
 "nbformat_minor": 5
}
